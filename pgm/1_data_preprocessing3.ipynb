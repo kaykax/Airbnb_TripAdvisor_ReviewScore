{
 "cells": [
  {
   "cell_type": "markdown",
   "id": "9c2ad1b0",
   "metadata": {},
   "source": [
    "## Part 1 Data Preprocessing"
   ]
  },
  {
   "cell_type": "code",
   "execution_count": 1,
   "id": "74537bd7",
   "metadata": {},
   "outputs": [
    {
     "data": {
      "application/vnd.jupyter.widget-view+json": {
       "model_id": "50854089a7dc429681474c2d4c4dcbae",
       "version_major": 2,
       "version_minor": 0
      },
      "text/plain": [
       "VBox()"
      ]
     },
     "metadata": {},
     "output_type": "display_data"
    },
    {
     "name": "stdout",
     "output_type": "stream",
     "text": [
      "Starting Spark application\n"
     ]
    },
    {
     "data": {
      "text/html": [
       "<table>\n",
       "<tr><th>ID</th><th>YARN Application ID</th><th>Kind</th><th>State</th><th>Spark UI</th><th>Driver log</th><th>Current session?</th></tr><tr><td>8</td><td>application_1622827002238_0009</td><td>pyspark</td><td>idle</td><td><a target=\"_blank\" href=\"http://ip-172-31-11-54.us-west-1.compute.internal:20888/proxy/application_1622827002238_0009/\" >Link</a></td><td><a target=\"_blank\" href=\"http://ip-172-31-4-209.us-west-1.compute.internal:8042/node/containerlogs/container_1622827002238_0009_01_000001/livy\" >Link</a></td><td>✔</td></tr></table>"
      ],
      "text/plain": [
       "<IPython.core.display.HTML object>"
      ]
     },
     "metadata": {},
     "output_type": "display_data"
    },
    {
     "data": {
      "application/vnd.jupyter.widget-view+json": {
       "model_id": "",
       "version_major": 2,
       "version_minor": 0
      },
      "text/plain": [
       "FloatProgress(value=0.0, bar_style='info', description='Progress:', layout=Layout(height='25px', width='50%'),…"
      ]
     },
     "metadata": {},
     "output_type": "display_data"
    },
    {
     "name": "stdout",
     "output_type": "stream",
     "text": [
      "SparkSession available as 'spark'.\n"
     ]
    },
    {
     "data": {
      "application/vnd.jupyter.widget-view+json": {
       "model_id": "",
       "version_major": 2,
       "version_minor": 0
      },
      "text/plain": [
       "FloatProgress(value=0.0, bar_style='info', description='Progress:', layout=Layout(height='25px', width='50%'),…"
      ]
     },
     "metadata": {},
     "output_type": "display_data"
    }
   ],
   "source": [
    "import numpy as np\n",
    "import pyspark\n",
    "from pyspark.sql.functions import udf\n",
    "from pyspark.sql.types import *\n",
    "from pyspark.sql.functions import col, lower, regexp_replace, split\n",
    "from pyspark.ml.feature import RegexTokenizer\n",
    "from pyspark.ml.feature import StopWordsRemover\n",
    "from pyspark.sql.functions import udf\n",
    "from nltk.stem.porter import *"
   ]
  },
  {
   "cell_type": "markdown",
   "id": "a5d604e6",
   "metadata": {},
   "source": [
    "<br></br>"
   ]
  },
  {
   "cell_type": "markdown",
   "id": "7f33f40d",
   "metadata": {},
   "source": [
    "## Preprocessing tripAdvisor review data "
   ]
  },
  {
   "cell_type": "markdown",
   "id": "909c32d6",
   "metadata": {},
   "source": [
    "- Create ``number of helpful`` with label 0 and 1 \n",
    "- Text processing\n",
    "    - Remove symbols, digits\n",
    "    - Lowercase letters\n",
    "    - Tokenize corpus\n",
    "    - Remove stopwords\n",
    "    - Lemmatize tokens"
   ]
  },
  {
   "cell_type": "markdown",
   "id": "1ba21b88",
   "metadata": {},
   "source": [
    "#### Load tripAdvisor review data"
   ]
  },
  {
   "cell_type": "code",
   "execution_count": 11,
   "id": "8a152808",
   "metadata": {},
   "outputs": [
    {
     "data": {
      "application/vnd.jupyter.widget-view+json": {
       "model_id": "b76514c394554f35858df2e1995c8988",
       "version_major": 2,
       "version_minor": 0
      },
      "text/plain": [
       "VBox()"
      ]
     },
     "metadata": {},
     "output_type": "display_data"
    },
    {
     "data": {
      "application/vnd.jupyter.widget-view+json": {
       "model_id": "",
       "version_major": 2,
       "version_minor": 0
      },
      "text/plain": [
       "FloatProgress(value=0.0, bar_style='info', description='Progress:', layout=Layout(height='25px', width='50%'),…"
      ]
     },
     "metadata": {},
     "output_type": "display_data"
    }
   ],
   "source": [
    "trip = spark.read.json('s3://dse230-project-data1/data/review.txt')"
   ]
  },
  {
   "cell_type": "code",
   "execution_count": 12,
   "id": "83058329",
   "metadata": {},
   "outputs": [
    {
     "data": {
      "application/vnd.jupyter.widget-view+json": {
       "model_id": "cfb72f2e2c79447294dcbe6db9884871",
       "version_major": 2,
       "version_minor": 0
      },
      "text/plain": [
       "VBox()"
      ]
     },
     "metadata": {},
     "output_type": "display_data"
    },
    {
     "data": {
      "application/vnd.jupyter.widget-view+json": {
       "model_id": "",
       "version_major": 2,
       "version_minor": 0
      },
      "text/plain": [
       "FloatProgress(value=0.0, bar_style='info', description='Progress:', layout=Layout(height='25px', width='50%'),…"
      ]
     },
     "metadata": {},
     "output_type": "display_data"
    },
    {
     "name": "stdout",
     "output_type": "stream",
     "text": [
      "root\n",
      " |-- author: struct (nullable = true)\n",
      " |    |-- id: string (nullable = true)\n",
      " |    |-- location: string (nullable = true)\n",
      " |    |-- num_cities: long (nullable = true)\n",
      " |    |-- num_helpful_votes: long (nullable = true)\n",
      " |    |-- num_reviews: long (nullable = true)\n",
      " |    |-- num_type_reviews: long (nullable = true)\n",
      " |    |-- username: string (nullable = true)\n",
      " |-- date: string (nullable = true)\n",
      " |-- date_stayed: string (nullable = true)\n",
      " |-- id: long (nullable = true)\n",
      " |-- num_helpful_votes: long (nullable = true)\n",
      " |-- offering_id: long (nullable = true)\n",
      " |-- ratings: struct (nullable = true)\n",
      " |    |-- business_service_(e_g_internet_access): double (nullable = true)\n",
      " |    |-- check_in_front_desk: double (nullable = true)\n",
      " |    |-- cleanliness: double (nullable = true)\n",
      " |    |-- location: double (nullable = true)\n",
      " |    |-- overall: double (nullable = true)\n",
      " |    |-- rooms: double (nullable = true)\n",
      " |    |-- service: double (nullable = true)\n",
      " |    |-- sleep_quality: double (nullable = true)\n",
      " |    |-- value: double (nullable = true)\n",
      " |-- text: string (nullable = true)\n",
      " |-- title: string (nullable = true)\n",
      " |-- via_mobile: boolean (nullable = true)"
     ]
    }
   ],
   "source": [
    "trip.printSchema()"
   ]
  },
  {
   "cell_type": "markdown",
   "id": "7d09bd0e",
   "metadata": {},
   "source": [
    "<br></br>"
   ]
  },
  {
   "cell_type": "markdown",
   "id": "d6bc6796",
   "metadata": {},
   "source": [
    "#### create label with number of helpful reviews"
   ]
  },
  {
   "cell_type": "code",
   "execution_count": 13,
   "id": "0bdf1fa3",
   "metadata": {},
   "outputs": [
    {
     "data": {
      "application/vnd.jupyter.widget-view+json": {
       "model_id": "0185a1785f8a4dc391665a9e88918818",
       "version_major": 2,
       "version_minor": 0
      },
      "text/plain": [
       "VBox()"
      ]
     },
     "metadata": {},
     "output_type": "display_data"
    },
    {
     "data": {
      "application/vnd.jupyter.widget-view+json": {
       "model_id": "",
       "version_major": 2,
       "version_minor": 0
      },
      "text/plain": [
       "FloatProgress(value=0.0, bar_style='info', description='Progress:', layout=Layout(height='25px', width='50%'),…"
      ]
     },
     "metadata": {},
     "output_type": "display_data"
    }
   ],
   "source": [
    "# bin label with number of helpful reviews\n",
    "label_udf = udf(lambda x: 1 if x > 0 else 0, IntegerType())\n",
    "trip = trip.withColumn('is_helpful', label_udf(\"num_helpful_votes\"))\n",
    "trip_review = trip.select(['text', 'is_helpful'])"
   ]
  },
  {
   "cell_type": "code",
   "execution_count": 14,
   "id": "448064d8",
   "metadata": {},
   "outputs": [
    {
     "data": {
      "application/vnd.jupyter.widget-view+json": {
       "model_id": "61df5b317d59420b9ceeaa394845dc45",
       "version_major": 2,
       "version_minor": 0
      },
      "text/plain": [
       "VBox()"
      ]
     },
     "metadata": {},
     "output_type": "display_data"
    },
    {
     "data": {
      "application/vnd.jupyter.widget-view+json": {
       "model_id": "",
       "version_major": 2,
       "version_minor": 0
      },
      "text/plain": [
       "FloatProgress(value=0.0, bar_style='info', description='Progress:', layout=Layout(height='25px', width='50%'),…"
      ]
     },
     "metadata": {},
     "output_type": "display_data"
    },
    {
     "name": "stdout",
     "output_type": "stream",
     "text": [
      "0.4415641031186224"
     ]
    }
   ],
   "source": [
    "# check label distribution\n",
    "trip_review.filter(trip_review.is_helpful==1).count()/trip_review.count()"
   ]
  },
  {
   "cell_type": "markdown",
   "id": "ebb6c406",
   "metadata": {},
   "source": [
    "<br></br>"
   ]
  },
  {
   "cell_type": "markdown",
   "id": "c6ba1818",
   "metadata": {},
   "source": [
    "#### clean text string"
   ]
  },
  {
   "cell_type": "code",
   "execution_count": 7,
   "id": "676d99e5",
   "metadata": {},
   "outputs": [
    {
     "data": {
      "application/vnd.jupyter.widget-view+json": {
       "model_id": "03b9346bc8204627a74d029b8bb31365",
       "version_major": 2,
       "version_minor": 0
      },
      "text/plain": [
       "VBox()"
      ]
     },
     "metadata": {},
     "output_type": "display_data"
    },
    {
     "data": {
      "application/vnd.jupyter.widget-view+json": {
       "model_id": "",
       "version_major": 2,
       "version_minor": 0
      },
      "text/plain": [
       "FloatProgress(value=0.0, bar_style='info', description='Progress:', layout=Layout(height='25px', width='50%'),…"
      ]
     },
     "metadata": {},
     "output_type": "display_data"
    }
   ],
   "source": [
    "def clean_text(c):\n",
    "    c = lower(c)\n",
    "    c = regexp_replace(c, \"^rt \", \"\")\n",
    "    c = regexp_replace(c, \"(https?\\://)\\S+\", \"\")\n",
    "    c = regexp_replace(c, \"[^a-zA-Z0-9\\\\s]\", \"\")\n",
    "    return c"
   ]
  },
  {
   "cell_type": "code",
   "execution_count": 15,
   "id": "11fa8217",
   "metadata": {},
   "outputs": [
    {
     "data": {
      "application/vnd.jupyter.widget-view+json": {
       "model_id": "62129aa6ebd44d8e99ad775cd46f9077",
       "version_major": 2,
       "version_minor": 0
      },
      "text/plain": [
       "VBox()"
      ]
     },
     "metadata": {},
     "output_type": "display_data"
    },
    {
     "data": {
      "application/vnd.jupyter.widget-view+json": {
       "model_id": "",
       "version_major": 2,
       "version_minor": 0
      },
      "text/plain": [
       "FloatProgress(value=0.0, bar_style='info', description='Progress:', layout=Layout(height='25px', width='50%'),…"
      ]
     },
     "metadata": {},
     "output_type": "display_data"
    }
   ],
   "source": [
    "trip_review = trip_review.withColumn('text', clean_text(col(\"text\")).alias(\"text\"))"
   ]
  },
  {
   "cell_type": "markdown",
   "id": "67cf8f99",
   "metadata": {},
   "source": [
    "<br></br>"
   ]
  },
  {
   "cell_type": "markdown",
   "id": "506271e3",
   "metadata": {},
   "source": [
    "#### tokenize the text"
   ]
  },
  {
   "cell_type": "code",
   "execution_count": 16,
   "id": "70ab5329",
   "metadata": {},
   "outputs": [
    {
     "data": {
      "application/vnd.jupyter.widget-view+json": {
       "model_id": "de9a566531ec4d50a8ca47894c533c8a",
       "version_major": 2,
       "version_minor": 0
      },
      "text/plain": [
       "VBox()"
      ]
     },
     "metadata": {},
     "output_type": "display_data"
    },
    {
     "data": {
      "application/vnd.jupyter.widget-view+json": {
       "model_id": "",
       "version_major": 2,
       "version_minor": 0
      },
      "text/plain": [
       "FloatProgress(value=0.0, bar_style='info', description='Progress:', layout=Layout(height='25px', width='50%'),…"
      ]
     },
     "metadata": {},
     "output_type": "display_data"
    },
    {
     "name": "stdout",
     "output_type": "stream",
     "text": [
      "+--------------------+----------+--------------------+\n",
      "|                text|is_helpful|          text_token|\n",
      "+--------------------+----------+--------------------+\n",
      "|stayed in a king ...|         0|[stayed, in, a, k...|\n",
      "|on every visit to...|         0|[on, every, visit...|\n",
      "|this is a great p...|         0|[this, is, a, gre...|\n",
      "|the andaz is a ni...|         0|[the, andaz, is, ...|\n",
      "|i have stayed at ...|         0|[i, have, stayed,...|\n",
      "|excellent staff t...|         0|[excellent, staff...|\n",
      "|i stayed at the s...|         0|[i, stayed, at, t...|\n",
      "|my husband and i ...|         0|[my, husband, and...|\n",
      "|wonderful boutiqu...|         0|[wonderful, bouti...|\n",
      "|this hotel is a n...|         0|[this, hotel, is,...|\n",
      "+--------------------+----------+--------------------+\n",
      "only showing top 10 rows"
     ]
    }
   ],
   "source": [
    "Tokenizer = RegexTokenizer(gaps = False, pattern = '\\w+', inputCol = 'text', outputCol = 'text_token')\n",
    "\n",
    "trip_token = Tokenizer.transform(trip_review)\n",
    "trip_token.show(10)"
   ]
  },
  {
   "cell_type": "markdown",
   "id": "99847456",
   "metadata": {},
   "source": [
    "<br></br>"
   ]
  },
  {
   "cell_type": "markdown",
   "id": "847c3696",
   "metadata": {},
   "source": [
    "#### remove stopwords"
   ]
  },
  {
   "cell_type": "code",
   "execution_count": 17,
   "id": "b0d404ac",
   "metadata": {},
   "outputs": [
    {
     "data": {
      "application/vnd.jupyter.widget-view+json": {
       "model_id": "6a417c4b00c34b21a58264465ec4c955",
       "version_major": 2,
       "version_minor": 0
      },
      "text/plain": [
       "VBox()"
      ]
     },
     "metadata": {},
     "output_type": "display_data"
    },
    {
     "data": {
      "application/vnd.jupyter.widget-view+json": {
       "model_id": "",
       "version_major": 2,
       "version_minor": 0
      },
      "text/plain": [
       "FloatProgress(value=0.0, bar_style='info', description='Progress:', layout=Layout(height='25px', width='50%'),…"
      ]
     },
     "metadata": {},
     "output_type": "display_data"
    },
    {
     "name": "stdout",
     "output_type": "stream",
     "text": [
      "+--------------------+----------+--------------------+--------------------+\n",
      "|                text|is_helpful|          text_token|    token_sw_removed|\n",
      "+--------------------+----------+--------------------+--------------------+\n",
      "|stayed in a king ...|         0|[stayed, in, a, k...|[stayed, king, su...|\n",
      "|on every visit to...|         0|[on, every, visit...|[every, visit, ny...|\n",
      "|this is a great p...|         0|[this, is, a, gre...|[great, property,...|\n",
      "|the andaz is a ni...|         0|[the, andaz, is, ...|[andaz, nice, hot...|\n",
      "|i have stayed at ...|         0|[i, have, stayed,...|[stayed, us, anda...|\n",
      "|excellent staff t...|         0|[excellent, staff...|[excellent, staff...|\n",
      "|i stayed at the s...|         0|[i, stayed, at, t...|[stayed, setai, 3...|\n",
      "|my husband and i ...|         0|[my, husband, and...|[husband, stayed,...|\n",
      "|wonderful boutiqu...|         0|[wonderful, bouti...|[wonderful, bouti...|\n",
      "|this hotel is a n...|         0|[this, hotel, is,...|[hotel, nice, sta...|\n",
      "+--------------------+----------+--------------------+--------------------+\n",
      "only showing top 10 rows"
     ]
    }
   ],
   "source": [
    "remover = StopWordsRemover(inputCol = 'text_token', outputCol = 'token_sw_removed')\n",
    "\n",
    "trip_token = remover.transform(trip_token)\n",
    "trip_token.show(10)"
   ]
  },
  {
   "cell_type": "markdown",
   "id": "8ce62e3f",
   "metadata": {},
   "source": [
    "<br></br>"
   ]
  },
  {
   "cell_type": "markdown",
   "id": "8625a09c",
   "metadata": {},
   "source": [
    "#### lemmatization"
   ]
  },
  {
   "cell_type": "code",
   "execution_count": 18,
   "id": "73e126b4",
   "metadata": {},
   "outputs": [
    {
     "data": {
      "application/vnd.jupyter.widget-view+json": {
       "model_id": "61b3f46df6974b3b94927a397561e41e",
       "version_major": 2,
       "version_minor": 0
      },
      "text/plain": [
       "VBox()"
      ]
     },
     "metadata": {},
     "output_type": "display_data"
    },
    {
     "data": {
      "application/vnd.jupyter.widget-view+json": {
       "model_id": "",
       "version_major": 2,
       "version_minor": 0
      },
      "text/plain": [
       "FloatProgress(value=0.0, bar_style='info', description='Progress:', layout=Layout(height='25px', width='50%'),…"
      ]
     },
     "metadata": {},
     "output_type": "display_data"
    }
   ],
   "source": [
    "# Instantiate stemmer object\n",
    "stemmer = PorterStemmer()\n",
    "\n",
    "# Create stemmer python function\n",
    "def stem(in_vec):\n",
    "    out_vec = []\n",
    "    for t in in_vec:\n",
    "        t_stem = stemmer.stem(t)\n",
    "        if len(t_stem) > 2:\n",
    "            out_vec.append(t_stem)       \n",
    "    return out_vec"
   ]
  },
  {
   "cell_type": "code",
   "execution_count": 19,
   "id": "9528b889",
   "metadata": {},
   "outputs": [
    {
     "data": {
      "application/vnd.jupyter.widget-view+json": {
       "model_id": "db176eadfb854fdb985a59fa1114cdd8",
       "version_major": 2,
       "version_minor": 0
      },
      "text/plain": [
       "VBox()"
      ]
     },
     "metadata": {},
     "output_type": "display_data"
    },
    {
     "data": {
      "application/vnd.jupyter.widget-view+json": {
       "model_id": "",
       "version_major": 2,
       "version_minor": 0
      },
      "text/plain": [
       "FloatProgress(value=0.0, bar_style='info', description='Progress:', layout=Layout(height='25px', width='50%'),…"
      ]
     },
     "metadata": {},
     "output_type": "display_data"
    },
    {
     "name": "stdout",
     "output_type": "stream",
     "text": [
      "+--------------------+----------+--------------------+--------------------+--------------------+\n",
      "|                text|is_helpful|          text_token|    token_sw_removed|      vector_stemmed|\n",
      "+--------------------+----------+--------------------+--------------------+--------------------+\n",
      "|stayed in a king ...|         0|[stayed, in, a, k...|[stayed, king, su...|[stay, king, suit...|\n",
      "|on every visit to...|         0|[on, every, visit...|[every, visit, ny...|[everi, visit, ny...|\n",
      "|this is a great p...|         0|[this, is, a, gre...|[great, property,...|[great, properti,...|\n",
      "|the andaz is a ni...|         0|[the, andaz, is, ...|[andaz, nice, hot...|[andaz, nice, hot...|\n",
      "|i have stayed at ...|         0|[i, have, stayed,...|[stayed, us, anda...|[stay, andaz, pro...|\n",
      "|excellent staff t...|         0|[excellent, staff...|[excellent, staff...|[excel, staff, re...|\n",
      "|i stayed at the s...|         0|[i, stayed, at, t...|[stayed, setai, 3...|[stay, setai, nig...|\n",
      "|my husband and i ...|         0|[my, husband, and...|[husband, stayed,...|[husband, stay, c...|\n",
      "|wonderful boutiqu...|         0|[wonderful, bouti...|[wonderful, bouti...|[wonder, boutiqu,...|\n",
      "|this hotel is a n...|         0|[this, hotel, is,...|[hotel, nice, sta...|[hotel, nice, sta...|\n",
      "+--------------------+----------+--------------------+--------------------+--------------------+\n",
      "only showing top 10 rows"
     ]
    }
   ],
   "source": [
    "# create user defined function\n",
    "stemmer_udf = udf(lambda x: stem(x), ArrayType(StringType()))\n",
    "\n",
    "# Create new df with vectors containing the stemmed tokens \n",
    "final_token = (trip_token.withColumn(\"vector_stemmed\", stemmer_udf(\"token_sw_removed\")))\n",
    "\n",
    "final_token.show(10)"
   ]
  },
  {
   "cell_type": "code",
   "execution_count": 20,
   "id": "26d893f9",
   "metadata": {},
   "outputs": [
    {
     "data": {
      "application/vnd.jupyter.widget-view+json": {
       "model_id": "59ad9edfafe74ee18f7e915051d08623",
       "version_major": 2,
       "version_minor": 0
      },
      "text/plain": [
       "VBox()"
      ]
     },
     "metadata": {},
     "output_type": "display_data"
    },
    {
     "data": {
      "application/vnd.jupyter.widget-view+json": {
       "model_id": "",
       "version_major": 2,
       "version_minor": 0
      },
      "text/plain": [
       "FloatProgress(value=0.0, bar_style='info', description='Progress:', layout=Layout(height='25px', width='50%'),…"
      ]
     },
     "metadata": {},
     "output_type": "display_data"
    }
   ],
   "source": [
    "# keep filterd tokens and label\n",
    "final_token = final_token.withColumn('unigrams', col('vector_stemmed')).select(['unigrams', 'is_helpful'])"
   ]
  },
  {
   "cell_type": "code",
   "execution_count": 21,
   "id": "caea3d21",
   "metadata": {},
   "outputs": [
    {
     "data": {
      "application/vnd.jupyter.widget-view+json": {
       "model_id": "c99a06262d0642a3b7a6211b002b734a",
       "version_major": 2,
       "version_minor": 0
      },
      "text/plain": [
       "VBox()"
      ]
     },
     "metadata": {},
     "output_type": "display_data"
    },
    {
     "data": {
      "application/vnd.jupyter.widget-view+json": {
       "model_id": "",
       "version_major": 2,
       "version_minor": 0
      },
      "text/plain": [
       "FloatProgress(value=0.0, bar_style='info', description='Progress:', layout=Layout(height='25px', width='50%'),…"
      ]
     },
     "metadata": {},
     "output_type": "display_data"
    }
   ],
   "source": [
    "# save processed data to parquet\n",
    "#final_token.coalesce(5).write.parquet('s3://dse230-project-data1/final_token.parquet', mode=\"overwrite\")"
   ]
  },
  {
   "cell_type": "markdown",
   "id": "4d1163f9",
   "metadata": {},
   "source": [
    "<br></br>"
   ]
  },
  {
   "cell_type": "markdown",
   "id": "7b440788",
   "metadata": {},
   "source": [
    "## Preprocessing Airbnb reviews"
   ]
  },
  {
   "cell_type": "code",
   "execution_count": 2,
   "id": "6720bdee",
   "metadata": {},
   "outputs": [
    {
     "data": {
      "application/vnd.jupyter.widget-view+json": {
       "model_id": "f43729c7ee0c43cd88d913b127107bb3",
       "version_major": 2,
       "version_minor": 0
      },
      "text/plain": [
       "VBox()"
      ]
     },
     "metadata": {},
     "output_type": "display_data"
    },
    {
     "data": {
      "application/vnd.jupyter.widget-view+json": {
       "model_id": "",
       "version_major": 2,
       "version_minor": 0
      },
      "text/plain": [
       "FloatProgress(value=0.0, bar_style='info', description='Progress:', layout=Layout(height='25px', width='50%'),…"
      ]
     },
     "metadata": {},
     "output_type": "display_data"
    }
   ],
   "source": [
    "airbnb = spark.read.csv('s3://dse230-project-data1/data/reviews.csv', header=True)"
   ]
  },
  {
   "cell_type": "code",
   "execution_count": 3,
   "id": "66be3798",
   "metadata": {},
   "outputs": [
    {
     "data": {
      "application/vnd.jupyter.widget-view+json": {
       "model_id": "ba7b37703b17416691cdea4d74345423",
       "version_major": 2,
       "version_minor": 0
      },
      "text/plain": [
       "VBox()"
      ]
     },
     "metadata": {},
     "output_type": "display_data"
    },
    {
     "data": {
      "application/vnd.jupyter.widget-view+json": {
       "model_id": "",
       "version_major": 2,
       "version_minor": 0
      },
      "text/plain": [
       "FloatProgress(value=0.0, bar_style='info', description='Progress:', layout=Layout(height='25px', width='50%'),…"
      ]
     },
     "metadata": {},
     "output_type": "display_data"
    },
    {
     "name": "stdout",
     "output_type": "stream",
     "text": [
      "root\n",
      " |-- listing_id: string (nullable = true)\n",
      " |-- id: string (nullable = true)\n",
      " |-- date: string (nullable = true)\n",
      " |-- reviewer_id: string (nullable = true)\n",
      " |-- reviewer_name: string (nullable = true)\n",
      " |-- comments: string (nullable = true)"
     ]
    }
   ],
   "source": [
    "airbnb.printSchema()"
   ]
  },
  {
   "cell_type": "markdown",
   "id": "84004aea",
   "metadata": {},
   "source": [
    "#### select data"
   ]
  },
  {
   "cell_type": "code",
   "execution_count": 4,
   "id": "5dbc674a",
   "metadata": {},
   "outputs": [
    {
     "data": {
      "application/vnd.jupyter.widget-view+json": {
       "model_id": "d7e6f1e50d7f425b96f3179c7421fcb5",
       "version_major": 2,
       "version_minor": 0
      },
      "text/plain": [
       "VBox()"
      ]
     },
     "metadata": {},
     "output_type": "display_data"
    },
    {
     "data": {
      "application/vnd.jupyter.widget-view+json": {
       "model_id": "",
       "version_major": 2,
       "version_minor": 0
      },
      "text/plain": [
       "FloatProgress(value=0.0, bar_style='info', description='Progress:', layout=Layout(height='25px', width='50%'),…"
      ]
     },
     "metadata": {},
     "output_type": "display_data"
    }
   ],
   "source": [
    "comments = airbnb.select(['id','comments'])"
   ]
  },
  {
   "cell_type": "markdown",
   "id": "15c8160d",
   "metadata": {},
   "source": [
    "#### remove null rows"
   ]
  },
  {
   "cell_type": "code",
   "execution_count": 5,
   "id": "f22b60c3",
   "metadata": {},
   "outputs": [
    {
     "data": {
      "application/vnd.jupyter.widget-view+json": {
       "model_id": "84d87af4f54f4d84b4edeab8bddc846a",
       "version_major": 2,
       "version_minor": 0
      },
      "text/plain": [
       "VBox()"
      ]
     },
     "metadata": {},
     "output_type": "display_data"
    },
    {
     "data": {
      "application/vnd.jupyter.widget-view+json": {
       "model_id": "",
       "version_major": 2,
       "version_minor": 0
      },
      "text/plain": [
       "FloatProgress(value=0.0, bar_style='info', description='Progress:', layout=Layout(height='25px', width='50%'),…"
      ]
     },
     "metadata": {},
     "output_type": "display_data"
    }
   ],
   "source": [
    "comments = comments.filter(comments.comments.isNotNull())"
   ]
  },
  {
   "cell_type": "markdown",
   "id": "6a50fa33",
   "metadata": {},
   "source": [
    "#### clean text string"
   ]
  },
  {
   "cell_type": "code",
   "execution_count": 8,
   "id": "3516e2b2",
   "metadata": {},
   "outputs": [
    {
     "data": {
      "application/vnd.jupyter.widget-view+json": {
       "model_id": "f63d42aae1f54973b2456a36c6cd0fc6",
       "version_major": 2,
       "version_minor": 0
      },
      "text/plain": [
       "VBox()"
      ]
     },
     "metadata": {},
     "output_type": "display_data"
    },
    {
     "data": {
      "application/vnd.jupyter.widget-view+json": {
       "model_id": "",
       "version_major": 2,
       "version_minor": 0
      },
      "text/plain": [
       "FloatProgress(value=0.0, bar_style='info', description='Progress:', layout=Layout(height='25px', width='50%'),…"
      ]
     },
     "metadata": {},
     "output_type": "display_data"
    }
   ],
   "source": [
    "comments = comments.withColumn('comments', clean_text(col(\"comments\")).alias(\"comments\"))"
   ]
  },
  {
   "cell_type": "markdown",
   "id": "2a11bf3c",
   "metadata": {},
   "source": [
    "#### tokenize the text"
   ]
  },
  {
   "cell_type": "code",
   "execution_count": 9,
   "id": "0761d4ea",
   "metadata": {},
   "outputs": [
    {
     "data": {
      "application/vnd.jupyter.widget-view+json": {
       "model_id": "576b43be6c4241b482b78bb29bc4960c",
       "version_major": 2,
       "version_minor": 0
      },
      "text/plain": [
       "VBox()"
      ]
     },
     "metadata": {},
     "output_type": "display_data"
    },
    {
     "data": {
      "application/vnd.jupyter.widget-view+json": {
       "model_id": "",
       "version_major": 2,
       "version_minor": 0
      },
      "text/plain": [
       "FloatProgress(value=0.0, bar_style='info', description='Progress:', layout=Layout(height='25px', width='50%'),…"
      ]
     },
     "metadata": {},
     "output_type": "display_data"
    }
   ],
   "source": [
    "Tokenizer = RegexTokenizer(gaps = False, pattern = '\\w+', inputCol = 'comments', outputCol = 'text_token')\n",
    "comments = Tokenizer.transform(comments)"
   ]
  },
  {
   "cell_type": "markdown",
   "id": "41f1e55a",
   "metadata": {},
   "source": [
    "#### remove stopwords"
   ]
  },
  {
   "cell_type": "code",
   "execution_count": 22,
   "id": "b7a4f342",
   "metadata": {},
   "outputs": [
    {
     "data": {
      "application/vnd.jupyter.widget-view+json": {
       "model_id": "7a1972c565704db7a07f26da81946d4c",
       "version_major": 2,
       "version_minor": 0
      },
      "text/plain": [
       "VBox()"
      ]
     },
     "metadata": {},
     "output_type": "display_data"
    },
    {
     "data": {
      "application/vnd.jupyter.widget-view+json": {
       "model_id": "",
       "version_major": 2,
       "version_minor": 0
      },
      "text/plain": [
       "FloatProgress(value=0.0, bar_style='info', description='Progress:', layout=Layout(height='25px', width='50%'),…"
      ]
     },
     "metadata": {},
     "output_type": "display_data"
    }
   ],
   "source": [
    "comments = remover.transform(comments)"
   ]
  },
  {
   "cell_type": "markdown",
   "id": "91f2c57b",
   "metadata": {},
   "source": [
    "#### lemmatization"
   ]
  },
  {
   "cell_type": "code",
   "execution_count": 23,
   "id": "541047d6",
   "metadata": {},
   "outputs": [
    {
     "data": {
      "application/vnd.jupyter.widget-view+json": {
       "model_id": "53f424d3dd424ab0837b2aa0a9148016",
       "version_major": 2,
       "version_minor": 0
      },
      "text/plain": [
       "VBox()"
      ]
     },
     "metadata": {},
     "output_type": "display_data"
    },
    {
     "data": {
      "application/vnd.jupyter.widget-view+json": {
       "model_id": "",
       "version_major": 2,
       "version_minor": 0
      },
      "text/plain": [
       "FloatProgress(value=0.0, bar_style='info', description='Progress:', layout=Layout(height='25px', width='50%'),…"
      ]
     },
     "metadata": {},
     "output_type": "display_data"
    }
   ],
   "source": [
    "final_review = (comments.withColumn(\"vector_stemmed\", stemmer_udf(\"token_sw_removed\")))"
   ]
  },
  {
   "cell_type": "code",
   "execution_count": 25,
   "id": "56490268",
   "metadata": {},
   "outputs": [
    {
     "data": {
      "application/vnd.jupyter.widget-view+json": {
       "model_id": "16de2a1701d7439987c7a45b374c5781",
       "version_major": 2,
       "version_minor": 0
      },
      "text/plain": [
       "VBox()"
      ]
     },
     "metadata": {},
     "output_type": "display_data"
    },
    {
     "data": {
      "application/vnd.jupyter.widget-view+json": {
       "model_id": "",
       "version_major": 2,
       "version_minor": 0
      },
      "text/plain": [
       "FloatProgress(value=0.0, bar_style='info', description='Progress:', layout=Layout(height='25px', width='50%'),…"
      ]
     },
     "metadata": {},
     "output_type": "display_data"
    }
   ],
   "source": [
    "final_review = final_review.withColumn('unigrams', col('vector_stemmed')).select(['unigrams', 'id'])\n",
    "\n",
    "# save processed data to parquet\n",
    "final_review.write.parquet('s3://dse230-project-data1/final_review.parquet', mode=\"overwrite\")"
   ]
  }
 ],
 "metadata": {
  "kernelspec": {
   "display_name": "PySpark",
   "language": "",
   "name": "pysparkkernel"
  },
  "language_info": {
   "codemirror_mode": {
    "name": "python",
    "version": 3
   },
   "mimetype": "text/x-python",
   "name": "pyspark",
   "pygments_lexer": "python3"
  },
  "toc-autonumbering": false,
  "toc-showmarkdowntxt": true,
  "toc-showtags": false
 },
 "nbformat": 4,
 "nbformat_minor": 5
}
