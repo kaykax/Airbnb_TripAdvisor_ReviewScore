{
 "cells": [
  {
   "cell_type": "markdown",
   "metadata": {},
   "source": [
    "# Part 3 Modeling and Evaluation"
   ]
  },
  {
   "cell_type": "markdown",
   "metadata": {},
   "source": [
    "#### This notebook contains modeling results on:\n",
    "\n",
    "- #### BOW(bag-of-words) \n",
    "    - Logistic regression + GridSearch\n",
    "    - Naive Bayes\n",
    "    - TFIDF + Logistic regressioon\n",
    "    - TFIDF + Naive Bayes\n",
    "- #### Bigram \n",
    "    - TFIDF + Logistic regression\n",
    "    - TFIDF + Naive Bayes\n",
    "    - TFIDF + Decision Tree\n",
    "- #### WordEmbeddings \n",
    "    - Logistic regression\n",
    "    - Decision Tree\n",
    "    - Random Forest\n",
    "    \n",
    "#### AreaUnderROC was selected as evaluation metric."
   ]
  },
  {
   "cell_type": "markdown",
   "metadata": {},
   "source": [
    "<br></br>"
   ]
  },
  {
   "cell_type": "code",
   "execution_count": 2,
   "metadata": {},
   "outputs": [
    {
     "data": {
      "application/vnd.jupyter.widget-view+json": {
       "model_id": "a9b74f15bbe941019d2b8ee4cc627fb2",
       "version_major": 2,
       "version_minor": 0
      },
      "text/plain": [
       "VBox()"
      ]
     },
     "metadata": {},
     "output_type": "display_data"
    },
    {
     "data": {
      "application/vnd.jupyter.widget-view+json": {
       "model_id": "",
       "version_major": 2,
       "version_minor": 0
      },
      "text/plain": [
       "FloatProgress(value=0.0, bar_style='info', description='Progress:', layout=Layout(height='25px', width='50%'),…"
      ]
     },
     "metadata": {},
     "output_type": "display_data"
    }
   ],
   "source": [
    "from pyspark.ml.classification import LogisticRegression, NaiveBayes, DecisionTreeClassifier,  RandomForestClassifier\n",
    "from pyspark.ml.evaluation import BinaryClassificationEvaluator\n",
    "from pyspark.ml.tuning import ParamGridBuilder, CrossValidator"
   ]
  },
  {
   "cell_type": "markdown",
   "metadata": {},
   "source": [
    "#### Load processed Word Vectors"
   ]
  },
  {
   "cell_type": "code",
   "execution_count": 3,
   "metadata": {},
   "outputs": [
    {
     "data": {
      "application/vnd.jupyter.widget-view+json": {
       "model_id": "b073198f523147a1ba98257b50c5c901",
       "version_major": 2,
       "version_minor": 0
      },
      "text/plain": [
       "VBox()"
      ]
     },
     "metadata": {},
     "output_type": "display_data"
    },
    {
     "data": {
      "application/vnd.jupyter.widget-view+json": {
       "model_id": "",
       "version_major": 2,
       "version_minor": 0
      },
      "text/plain": [
       "FloatProgress(value=0.0, bar_style='info', description='Progress:', layout=Layout(height='25px', width='50%'),…"
      ]
     },
     "metadata": {},
     "output_type": "display_data"
    }
   ],
   "source": [
    "df = spark.read.parquet('s3://dse230-project-data1/text_df.parquet')"
   ]
  },
  {
   "cell_type": "markdown",
   "metadata": {},
   "source": [
    "We keep all the useful columns in one ``Dataframe``, that way for different classifiers, we can call the same Dataframe with required ``featuresCol``"
   ]
  },
  {
   "cell_type": "code",
   "execution_count": 3,
   "metadata": {},
   "outputs": [
    {
     "data": {
      "application/vnd.jupyter.widget-view+json": {
       "model_id": "3a7bff36e2ed45c1acc1e7e8333792fb",
       "version_major": 2,
       "version_minor": 0
      },
      "text/plain": [
       "VBox()"
      ]
     },
     "metadata": {},
     "output_type": "display_data"
    },
    {
     "data": {
      "application/vnd.jupyter.widget-view+json": {
       "model_id": "",
       "version_major": 2,
       "version_minor": 0
      },
      "text/plain": [
       "FloatProgress(value=0.0, bar_style='info', description='Progress:', layout=Layout(height='25px', width='50%'),…"
      ]
     },
     "metadata": {},
     "output_type": "display_data"
    },
    {
     "name": "stdout",
     "output_type": "stream",
     "text": [
      "root\n",
      " |-- is_helpful: integer (nullable = true)\n",
      " |-- unigrams: array (nullable = true)\n",
      " |    |-- element: string (containsNull = true)\n",
      " |-- bow: vector (nullable = true)\n",
      " |-- bow_tfidf: vector (nullable = true)\n",
      " |-- bigrams: array (nullable = true)\n",
      " |    |-- element: string (containsNull = true)\n",
      " |-- bigram_tfidf: vector (nullable = true)\n",
      " |-- word2vec: vector (nullable = true)"
     ]
    }
   ],
   "source": [
    "df.printSchema()"
   ]
  },
  {
   "cell_type": "markdown",
   "metadata": {},
   "source": [
    "#### Train/Test Split"
   ]
  },
  {
   "cell_type": "code",
   "execution_count": 4,
   "metadata": {},
   "outputs": [
    {
     "data": {
      "application/vnd.jupyter.widget-view+json": {
       "model_id": "a77b1fea50a14eacac4e787435389d21",
       "version_major": 2,
       "version_minor": 0
      },
      "text/plain": [
       "VBox()"
      ]
     },
     "metadata": {},
     "output_type": "display_data"
    },
    {
     "data": {
      "application/vnd.jupyter.widget-view+json": {
       "model_id": "",
       "version_major": 2,
       "version_minor": 0
      },
      "text/plain": [
       "FloatProgress(value=0.0, bar_style='info', description='Progress:', layout=Layout(height='25px', width='50%'),…"
      ]
     },
     "metadata": {},
     "output_type": "display_data"
    },
    {
     "name": "stdout",
     "output_type": "stream",
     "text": [
      "Training Dataset Size: 614742\n",
      "Test Dataset Size: 263819"
     ]
    }
   ],
   "source": [
    "(train, test) = df.randomSplit([0.7, 0.3], seed = 168)\n",
    "print(f\"Training Dataset Size: {train.count()}\")\n",
    "print(f\"Test Dataset Size: {test.count()}\")"
   ]
  },
  {
   "cell_type": "markdown",
   "metadata": {},
   "source": [
    "<br></br>"
   ]
  },
  {
   "cell_type": "markdown",
   "metadata": {},
   "source": [
    "### Baseline Model: Logistic Regression on BOW (GridSearch)"
   ]
  },
  {
   "cell_type": "code",
   "execution_count": 5,
   "metadata": {},
   "outputs": [
    {
     "data": {
      "application/vnd.jupyter.widget-view+json": {
       "model_id": "94509dfa4cea44e5affad64f3d84a58f",
       "version_major": 2,
       "version_minor": 0
      },
      "text/plain": [
       "VBox()"
      ]
     },
     "metadata": {},
     "output_type": "display_data"
    },
    {
     "data": {
      "application/vnd.jupyter.widget-view+json": {
       "model_id": "",
       "version_major": 2,
       "version_minor": 0
      },
      "text/plain": [
       "FloatProgress(value=0.0, bar_style='info', description='Progress:', layout=Layout(height='25px', width='50%'),…"
      ]
     },
     "metadata": {},
     "output_type": "display_data"
    }
   ],
   "source": [
    "# lr = LogisticRegression(maxIter=20, regParam=0.3, elasticNetParam=0, featuresCol='bow', labelCol='is_helpful')\n",
    "# # create paramter grid\n",
    "# paramGrid = ParamGridBuilder()\\\n",
    "#                .addGrid(lr.regParam, [0.1, 0.3, 0.5])\\\n",
    "#                .addGrid(lr.elasticNetParam, [0.0, 0.1, 0.2])\\\n",
    "#                .build()\n",
    "\n",
    "# # set evaluator\n",
    "# evaluator = BinaryClassificationEvaluator(rawPredictionCol='prediction', labelCol='is_helpful')\n",
    "\n",
    "# # create cross-validator\n",
    "# crossval = CrossValidator(estimator=lr, \\\n",
    "#                           estimatorParamMaps=paramGrid, \\\n",
    "#                           evaluator=evaluator, \\\n",
    "#                           numFolds=5) \n",
    " \n",
    "# # run cross-validator    \n",
    "# cvModel = crossval.fit(train)\n",
    "# prediction = cvModel.transform(test)"
   ]
  },
  {
   "cell_type": "markdown",
   "metadata": {},
   "source": [
    "#### Note: running this cell causes an error related to the `thread cell_monitor`,then break down the whole notebook, however it still gives the result for the best parameters."
   ]
  },
  {
   "cell_type": "markdown",
   "metadata": {},
   "source": [
    "<img src=\"https://i.ibb.co/qNZK5bG/Screen-Shot-2021-06-04-at-11-06-07.png\" width=\"1000\">"
   ]
  },
  {
   "cell_type": "markdown",
   "metadata": {},
   "source": [
    "<img src=\"https://i.ibb.co/Gvh68SR/Screen-Shot-2021-06-04-at-11-06-27.png\" width=\"1000\">"
   ]
  },
  {
   "cell_type": "markdown",
   "metadata": {},
   "source": [
    "#### helper function to run different classifiers"
   ]
  },
  {
   "cell_type": "code",
   "execution_count": 6,
   "metadata": {},
   "outputs": [
    {
     "data": {
      "application/vnd.jupyter.widget-view+json": {
       "model_id": "1338156b71df49849fb4e9fa4a1497be",
       "version_major": 2,
       "version_minor": 0
      },
      "text/plain": [
       "VBox()"
      ]
     },
     "metadata": {},
     "output_type": "display_data"
    },
    {
     "data": {
      "application/vnd.jupyter.widget-view+json": {
       "model_id": "",
       "version_major": 2,
       "version_minor": 0
      },
      "text/plain": [
       "FloatProgress(value=0.0, bar_style='info', description='Progress:', layout=Layout(height='25px', width='50%'),…"
      ]
     },
     "metadata": {},
     "output_type": "display_data"
    }
   ],
   "source": [
    "class text_classifier:\n",
    "    \n",
    "    def __init__(self, clf, how, tfidf=True, w2v=False):\n",
    "        self.clf = clf\n",
    "        self.how = how\n",
    "        self.tfidf = tfidf\n",
    "        self.w2v = w2v\n",
    "        \n",
    "        \n",
    "    def fit(self, train_data):\n",
    "        if self.clf == 'lr':\n",
    "            if self.how == 'bow' and self.w2v == False:\n",
    "                if self.tfidf == False:\n",
    "                    col = 'bow'\n",
    "                else:\n",
    "                    col = 'bow_tfidf'\n",
    "            elif self.how == 'bigram' and self.w2v == False:\n",
    "                col = 'bow_tfidf'\n",
    "            else:\n",
    "                col = 'word2vec'\n",
    "            \n",
    "            lr = LogisticRegression(maxIter=20, regParam=0.1, elasticNetParam=0, featuresCol=col, labelCol='is_helpful')\n",
    "            self.model = lr.fit(train_data)\n",
    "            \n",
    "        elif self.clf == 'nb':\n",
    "            if self.how == 'bow' and self.w2v == False:\n",
    "                if self.tfidf == False:\n",
    "                    col = 'bow'\n",
    "                else:\n",
    "                    col = 'bow_tfidf'\n",
    "            elif self.how == 'bigram' and self.w2v == False:\n",
    "                col = 'bow_tfidf'\n",
    "            else:\n",
    "                print(\"Input word2vec data contains negative values, consider normalize to (0, 1) before fitting naive bayes model.\")\n",
    "            \n",
    "            nb = NaiveBayes(smoothing=1.0, modelType=\"multinomial\", featuresCol=col, labelCol='is_helpful')\n",
    "            self.model = nb.fit(train_data)\n",
    "            \n",
    "        elif self.clf == 'dt':\n",
    "            if self.how == 'bow' and self.w2v == False:\n",
    "                if self.tfidf == False:\n",
    "                    col = 'bow'\n",
    "                else:\n",
    "                    col = 'bow_tfidf'\n",
    "            elif self.how == 'bigram' and self.w2v == False:\n",
    "                col = 'bow_tfidf'\n",
    "            else:\n",
    "                col = 'word2vec'\n",
    "            \n",
    "            dt = DecisionTreeClassifier(featuresCol=col, labelCol='is_helpful', maxDepth=5)\n",
    "            self.model = dt.fit(train_data)\n",
    "            \n",
    "        elif self.clf == 'rf':\n",
    "            if self.how == 'bow' and self.w2v == False:\n",
    "                if self.tfidf == False:\n",
    "                    col = 'bow'\n",
    "                else:\n",
    "                    col = 'bow_tfidf'\n",
    "            elif self.how == 'bigram' and self.w2v == False:\n",
    "                col = 'bow_tfidf'\n",
    "            else:\n",
    "                col = 'word2vec'\n",
    "            \n",
    "            rf = RandomForestClassifier(featuresCol='bow', labelCol='is_helpful', maxDepth=4, numTrees=100)\n",
    "            self.model = rf.fit(train_data)\n",
    "            \n",
    "        return self\n",
    "    \n",
    "    \n",
    "    def predict(self, test_data):\n",
    "        pred = self.model.transform(test_data)\n",
    "        return pred\n",
    "    \n",
    "    \n",
    "    def accuracy(self, test_data):\n",
    "        evaluator = BinaryClassificationEvaluator(rawPredictionCol='prediction', labelCol='is_helpful')\n",
    "        pred = self.predict(test_data)\n",
    "        acc = evaluator.evaluate(pred)\n",
    "        return acc"
   ]
  },
  {
   "cell_type": "markdown",
   "metadata": {},
   "source": [
    "## BOW(bag-of-words) models"
   ]
  },
  {
   "cell_type": "code",
   "execution_count": 9,
   "metadata": {},
   "outputs": [
    {
     "data": {
      "application/vnd.jupyter.widget-view+json": {
       "model_id": "07446c2719384547abf62350db91dc9a",
       "version_major": 2,
       "version_minor": 0
      },
      "text/plain": [
       "VBox()"
      ]
     },
     "metadata": {},
     "output_type": "display_data"
    },
    {
     "data": {
      "application/vnd.jupyter.widget-view+json": {
       "model_id": "",
       "version_major": 2,
       "version_minor": 0
      },
      "text/plain": [
       "FloatProgress(value=0.0, bar_style='info', description='Progress:', layout=Layout(height='25px', width='50%'),…"
      ]
     },
     "metadata": {},
     "output_type": "display_data"
    },
    {
     "name": "stdout",
     "output_type": "stream",
     "text": [
      "<text_classifier object at 0x7fefdd4f63d0>\n",
      "BOW + lr AreaUnderROC: 0.6163422086896138\n",
      "<text_classifier object at 0x7fefdd9ab190>\n",
      "BOW + nb AreaUnderROC: 0.5831755784095843"
     ]
    }
   ],
   "source": [
    "for clf in ['lr', 'nb']:\n",
    "    a = text_classifier(clf=clf, how='bow', tfidf=False)\n",
    "    a.fit(train)\n",
    "    a_pred = a.predict(test)\n",
    "    #a_pred.write.parquet(f's3://dse230-project-data1/bigram_{clf}.parquet')\n",
    "    print(f\"BOW + {clf} AreaUnderROC: {a.accuracy(test)}\")"
   ]
  },
  {
   "cell_type": "markdown",
   "metadata": {},
   "source": [
    "## BOW(bag-of-words) + TFIDF models"
   ]
  },
  {
   "cell_type": "code",
   "execution_count": 11,
   "metadata": {},
   "outputs": [
    {
     "data": {
      "application/vnd.jupyter.widget-view+json": {
       "model_id": "a9166fbaced14b03a2079d27caed7b18",
       "version_major": 2,
       "version_minor": 0
      },
      "text/plain": [
       "VBox()"
      ]
     },
     "metadata": {},
     "output_type": "display_data"
    },
    {
     "data": {
      "application/vnd.jupyter.widget-view+json": {
       "model_id": "",
       "version_major": 2,
       "version_minor": 0
      },
      "text/plain": [
       "FloatProgress(value=0.0, bar_style='info', description='Progress:', layout=Layout(height='25px', width='50%'),…"
      ]
     },
     "metadata": {},
     "output_type": "display_data"
    },
    {
     "name": "stdout",
     "output_type": "stream",
     "text": [
      "<text_classifier object at 0x7fefdd9ad1d0>\n",
      "BOW + lr AreaUnderROC: 0.6163422086896138\n",
      "<text_classifier object at 0x7fefdd4eb1d0>\n",
      "BOW + nb AreaUnderROC: 0.5673705062090807"
     ]
    }
   ],
   "source": [
    "for clf in ['lr', 'nb']:\n",
    "    a = text_classifier(clf=clf, how='bow', tfidf=True)\n",
    "    a.fit(train)\n",
    "    a_pred = a.predict(test)\n",
    "    #a_pred.write.parquet(f's3://dse230-project-data1/bigram_{clf}.parquet')\n",
    "    print(f\"BOW + {clf} AreaUnderROC: {a.accuracy(test)}\")"
   ]
  },
  {
   "cell_type": "markdown",
   "metadata": {},
   "source": [
    "#### Comment\n",
    "Since the 'BOW' representation is very sparse, we considered not to train this model with tree-based algorithms, because those algothrms normaly performs not that well on large sparse matrix. Our baseline model trained on bag-of-words with logistic regression has a AreaUnderROC 0.616. After adding tfidf term, the result of logistic regression remains about the same."
   ]
  },
  {
   "cell_type": "markdown",
   "metadata": {},
   "source": [
    "## Bigram + TFIDF models"
   ]
  },
  {
   "cell_type": "code",
   "execution_count": 7,
   "metadata": {},
   "outputs": [
    {
     "data": {
      "application/vnd.jupyter.widget-view+json": {
       "model_id": "32b3f2f8b5d34531bfd88e8e2c08f463",
       "version_major": 2,
       "version_minor": 0
      },
      "text/plain": [
       "VBox()"
      ]
     },
     "metadata": {},
     "output_type": "display_data"
    },
    {
     "data": {
      "application/vnd.jupyter.widget-view+json": {
       "model_id": "",
       "version_major": 2,
       "version_minor": 0
      },
      "text/plain": [
       "FloatProgress(value=0.0, bar_style='info', description='Progress:', layout=Layout(height='25px', width='50%'),…"
      ]
     },
     "metadata": {},
     "output_type": "display_data"
    },
    {
     "name": "stdout",
     "output_type": "stream",
     "text": [
      "<text_classifier object at 0x7fefdf43fc90>\n",
      "Bigram + TFIDF + lr AreaUnderROC: 0.6163422086896138\n",
      "<text_classifier object at 0x7fefdd514610>\n",
      "Bigram + TFIDF + nb AreaUnderROC: 0.5673705062090807\n",
      "<text_classifier object at 0x7fefdd5237d0>\n",
      "Bigram + TFIDF + dt AreaUnderROC: 0.581415152238933"
     ]
    }
   ],
   "source": [
    "for clf in ['lr', 'nb', 'dt']:\n",
    "    a = text_classifier(clf=clf, how='bigram', tfidf=True)\n",
    "    a.fit(train)\n",
    "    a_pred = a.predict(test)\n",
    "    #a_pred.write.parquet(f's3://dse230-project-data1/bigram_{clf}.parquet')\n",
    "    print(f\"Bigram + TFIDF + {clf} AreaUnderROC: {a.accuracy(test)}\")"
   ]
  },
  {
   "cell_type": "markdown",
   "metadata": {},
   "source": [
    "#### Comment\n",
    "\n",
    "As we can see, bigram with logistic regression model still output same result as baseline model, in this case, bigram doesn't bring us much improvement."
   ]
  },
  {
   "cell_type": "markdown",
   "metadata": {},
   "source": [
    "## Word Embeddings model\n",
    "- word embedding + logistic regression\n",
    "- word embedding + random forest"
   ]
  },
  {
   "cell_type": "code",
   "execution_count": 8,
   "metadata": {},
   "outputs": [
    {
     "data": {
      "application/vnd.jupyter.widget-view+json": {
       "model_id": "901211091e584e9c82dff69306d3bfee",
       "version_major": 2,
       "version_minor": 0
      },
      "text/plain": [
       "VBox()"
      ]
     },
     "metadata": {},
     "output_type": "display_data"
    },
    {
     "data": {
      "application/vnd.jupyter.widget-view+json": {
       "model_id": "",
       "version_major": 2,
       "version_minor": 0
      },
      "text/plain": [
       "FloatProgress(value=0.0, bar_style='info', description='Progress:', layout=Layout(height='25px', width='50%'),…"
      ]
     },
     "metadata": {},
     "output_type": "display_data"
    },
    {
     "name": "stdout",
     "output_type": "stream",
     "text": [
      "<text_classifier object at 0x7fefdf43fe10>\n",
      "WordEmbeddings + lr AreaUnderROC: 0.5854188459674912\n",
      "<text_classifier object at 0x7fefdf43f5d0>\n",
      "WordEmbeddings + rf AreaUnderROC: 0.5256573328294689"
     ]
    }
   ],
   "source": [
    "for clf in ['lr', 'rf']:\n",
    "    a = text_classifier(clf=clf, how='bow', w2v=True)\n",
    "    a.fit(train)\n",
    "    a_pred = a.predict(test)\n",
    "    #a_pred.write.parquet(f's3://dse230-project-data1/bigram_{clf}.parquet')\n",
    "    print(f\"WordEmbeddings + {clf} AreaUnderROC: {a.accuracy(test)}\")"
   ]
  },
  {
   "cell_type": "markdown",
   "metadata": {},
   "source": [
    "#### Comment\n",
    "The word embedding model we trained doesn't improve the performance, potential reason is when training word embedding vector, we chose a relatively small vector size(100) which limited capability of catching more information between words."
   ]
  },
  {
   "cell_type": "markdown",
   "metadata": {},
   "source": [
    "<br></br>"
   ]
  },
  {
   "cell_type": "markdown",
   "metadata": {},
   "source": [
    "Then, we will use the best model we have so far to predict Airbnb reviews."
   ]
  },
  {
   "cell_type": "code",
   "execution_count": 5,
   "metadata": {},
   "outputs": [
    {
     "data": {
      "application/vnd.jupyter.widget-view+json": {
       "model_id": "74a1e3cab4c24aef8e99573e19a1b372",
       "version_major": 2,
       "version_minor": 0
      },
      "text/plain": [
       "VBox()"
      ]
     },
     "metadata": {},
     "output_type": "display_data"
    },
    {
     "data": {
      "application/vnd.jupyter.widget-view+json": {
       "model_id": "",
       "version_major": 2,
       "version_minor": 0
      },
      "text/plain": [
       "FloatProgress(value=0.0, bar_style='info', description='Progress:', layout=Layout(height='25px', width='50%'),…"
      ]
     },
     "metadata": {},
     "output_type": "display_data"
    }
   ],
   "source": [
    "lr = LogisticRegression(maxIter=20, regParam=0.1, elasticNetParam=0, featuresCol='bow', labelCol='is_helpful')\n",
    "lr_model = lr.fit(train)"
   ]
  },
  {
   "cell_type": "markdown",
   "metadata": {},
   "source": [
    "#### Load processed airbnb bag-of-words model"
   ]
  },
  {
   "cell_type": "code",
   "execution_count": 6,
   "metadata": {},
   "outputs": [
    {
     "data": {
      "application/vnd.jupyter.widget-view+json": {
       "model_id": "d95ff1973ed049df8478030bf00eec52",
       "version_major": 2,
       "version_minor": 0
      },
      "text/plain": [
       "VBox()"
      ]
     },
     "metadata": {},
     "output_type": "display_data"
    },
    {
     "data": {
      "application/vnd.jupyter.widget-view+json": {
       "model_id": "",
       "version_major": 2,
       "version_minor": 0
      },
      "text/plain": [
       "FloatProgress(value=0.0, bar_style='info', description='Progress:', layout=Layout(height='25px', width='50%'),…"
      ]
     },
     "metadata": {},
     "output_type": "display_data"
    }
   ],
   "source": [
    "df2 = spark.read.parquet('s3://dse230-project-data1/text_df2.parquet/')"
   ]
  },
  {
   "cell_type": "code",
   "execution_count": 7,
   "metadata": {},
   "outputs": [
    {
     "data": {
      "application/vnd.jupyter.widget-view+json": {
       "model_id": "be3dc7a13a3c4cbd93cfd70aa32b7429",
       "version_major": 2,
       "version_minor": 0
      },
      "text/plain": [
       "VBox()"
      ]
     },
     "metadata": {},
     "output_type": "display_data"
    },
    {
     "data": {
      "application/vnd.jupyter.widget-view+json": {
       "model_id": "",
       "version_major": 2,
       "version_minor": 0
      },
      "text/plain": [
       "FloatProgress(value=0.0, bar_style='info', description='Progress:', layout=Layout(height='25px', width='50%'),…"
      ]
     },
     "metadata": {},
     "output_type": "display_data"
    },
    {
     "name": "stdout",
     "output_type": "stream",
     "text": [
      "+--------------------+---------+--------------------+\n",
      "|            unigrams|       id|                 bow|\n",
      "+--------------------+---------+--------------------+\n",
      "|[respons, help, h...|214904211|(10000,[1,2,10,12...|\n",
      "|[hous, perfect, c...|218048729|(10000,[0,1,2,10,...|\n",
      "|[famili, babi, sp...|219935056|(10000,[7,14,20,2...|\n",
      "|[great, hous, hil...|222829306|(10000,[0,2,4,18,...|\n",
      "|[airbnb, exactli,...|227447978|(10000,[10,12,23,...|\n",
      "|[group, wonder, s...|229828619|(10000,[0,2,3,4,5...|\n",
      "|[realli, enjoy, s...|231585560|(10000,[0,2,6,7,1...|\n",
      "|[thoroughli, enjo...|233713124|(10000,[0,2,8,9,1...|\n",
      "|[place, real, get...|236677318|(10000,[0,1,4,16,...|\n",
      "|[open, concept, h...|239212816|(10000,[2,6,7,11,...|\n",
      "|[host, cancel, re...|243379080|(10000,[10,32,106...|\n",
      "|[mahi, great, hos...|249212151|(10000,[0,2,10,21...|\n",
      "|[hous, beauti, pi...|251934875|(10000,[13,17,21,...|\n",
      "|[thank, everyth, ...|262128150|(10000,[0,7,8,19,...|\n",
      "|[home, truli, gor...|264815252|(10000,[0,7,8,20,...|\n",
      "|[mahi, hous, beau...|267497785|(10000,[0,1,9,13,...|\n",
      "|[beauti, home, fa...|270938245|(10000,[0,7,10,13...|\n",
      "|[beauti, place, g...|281460240|(10000,[0,1,6,9,1...|\n",
      "|[love, stay, spit...|283883225|(10000,[1,2,3,7,2...|\n",
      "|[wonder, hawaiian...|287988382|(10000,[10,11,12,...|\n",
      "+--------------------+---------+--------------------+\n",
      "only showing top 20 rows"
     ]
    }
   ],
   "source": [
    "df2.show()"
   ]
  },
  {
   "cell_type": "code",
   "execution_count": 8,
   "metadata": {},
   "outputs": [
    {
     "data": {
      "application/vnd.jupyter.widget-view+json": {
       "model_id": "3c2d7258cd584e16b02c570a087de671",
       "version_major": 2,
       "version_minor": 0
      },
      "text/plain": [
       "VBox()"
      ]
     },
     "metadata": {},
     "output_type": "display_data"
    },
    {
     "data": {
      "application/vnd.jupyter.widget-view+json": {
       "model_id": "",
       "version_major": 2,
       "version_minor": 0
      },
      "text/plain": [
       "FloatProgress(value=0.0, bar_style='info', description='Progress:', layout=Layout(height='25px', width='50%'),…"
      ]
     },
     "metadata": {},
     "output_type": "display_data"
    }
   ],
   "source": [
    "airbnb_pred = lr_model.transform(df2)"
   ]
  },
  {
   "cell_type": "code",
   "execution_count": 9,
   "metadata": {},
   "outputs": [
    {
     "data": {
      "application/vnd.jupyter.widget-view+json": {
       "model_id": "8dfb27c60a9a41c0bb1c79ffb5ea252d",
       "version_major": 2,
       "version_minor": 0
      },
      "text/plain": [
       "VBox()"
      ]
     },
     "metadata": {},
     "output_type": "display_data"
    },
    {
     "data": {
      "application/vnd.jupyter.widget-view+json": {
       "model_id": "",
       "version_major": 2,
       "version_minor": 0
      },
      "text/plain": [
       "FloatProgress(value=0.0, bar_style='info', description='Progress:', layout=Layout(height='25px', width='50%'),…"
      ]
     },
     "metadata": {},
     "output_type": "display_data"
    },
    {
     "name": "stdout",
     "output_type": "stream",
     "text": [
      "+--------------------+---------+--------------------+--------------------+--------------------+----------+\n",
      "|            unigrams|       id|                 bow|       rawPrediction|         probability|prediction|\n",
      "+--------------------+---------+--------------------+--------------------+--------------------+----------+\n",
      "|[respons, help, h...|214904211|(10000,[1,2,10,12...|[0.81398590285483...|[0.69295822502460...|       0.0|\n",
      "|[hous, perfect, c...|218048729|(10000,[0,1,2,10,...|[1.01549148112327...|[0.73409346479673...|       0.0|\n",
      "|[famili, babi, sp...|219935056|(10000,[7,14,20,2...|[1.00857204595898...|[0.73274060336478...|       0.0|\n",
      "|[great, hous, hil...|222829306|(10000,[0,2,4,18,...|[0.74740953740144...|[0.67861398854576...|       0.0|\n",
      "|[airbnb, exactli,...|227447978|(10000,[10,12,23,...|[0.93143632022713...|[0.71736659285155...|       0.0|\n",
      "|[group, wonder, s...|229828619|(10000,[0,2,3,4,5...|[-0.2542136445969...|[0.43678665074399...|       1.0|\n",
      "|[realli, enjoy, s...|231585560|(10000,[0,2,6,7,1...|[0.77067395369458...|[0.68366666541927...|       0.0|\n",
      "|[thoroughli, enjo...|233713124|(10000,[0,2,8,9,1...|[0.89634890080173...|[0.71019862312619...|       0.0|\n",
      "|[place, real, get...|236677318|(10000,[0,1,4,16,...|[0.56098127757572...|[0.63667955856263...|       0.0|\n",
      "|[open, concept, h...|239212816|(10000,[2,6,7,11,...|[0.43322517088786...|[0.60664354590940...|       0.0|\n",
      "|[host, cancel, re...|243379080|(10000,[10,32,106...|[0.63525821332669...|[0.65368078812383...|       0.0|\n",
      "|[mahi, great, hos...|249212151|(10000,[0,2,10,21...|[0.98983626717105...|[0.72905558083685...|       0.0|\n",
      "|[hous, beauti, pi...|251934875|(10000,[13,17,21,...|[0.84802383286482...|[0.70015243208130...|       0.0|\n",
      "|[thank, everyth, ...|262128150|(10000,[0,7,8,19,...|[0.77653634236130...|[0.68493313675727...|       0.0|\n",
      "|[home, truli, gor...|264815252|(10000,[0,7,8,20,...|[0.45791258337394...|[0.61251886622626...|       0.0|\n",
      "|[mahi, hous, beau...|267497785|(10000,[0,1,9,13,...|[0.77470853514895...|[0.68453856318060...|       0.0|\n",
      "|[beauti, home, fa...|270938245|(10000,[0,7,10,13...|[0.97610967205866...|[0.72633560859833...|       0.0|\n",
      "|[beauti, place, g...|281460240|(10000,[0,1,6,9,1...|[1.45967899942468...|[0.81148357367538...|       0.0|\n",
      "|[love, stay, spit...|283883225|(10000,[1,2,3,7,2...|[0.55360357149633...|[0.63497124231013...|       0.0|\n",
      "|[wonder, hawaiian...|287988382|(10000,[10,11,12,...|[0.97685477110837...|[0.72648368859049...|       0.0|\n",
      "+--------------------+---------+--------------------+--------------------+--------------------+----------+\n",
      "only showing top 20 rows"
     ]
    }
   ],
   "source": [
    "airbnb_pred.show()"
   ]
  },
  {
   "cell_type": "code",
   "execution_count": 11,
   "metadata": {},
   "outputs": [
    {
     "data": {
      "application/vnd.jupyter.widget-view+json": {
       "model_id": "13619c12a8de48d7801db913efbf7c80",
       "version_major": 2,
       "version_minor": 0
      },
      "text/plain": [
       "VBox()"
      ]
     },
     "metadata": {},
     "output_type": "display_data"
    },
    {
     "data": {
      "application/vnd.jupyter.widget-view+json": {
       "model_id": "",
       "version_major": 2,
       "version_minor": 0
      },
      "text/plain": [
       "FloatProgress(value=0.0, bar_style='info', description='Progress:', layout=Layout(height='25px', width='50%'),…"
      ]
     },
     "metadata": {},
     "output_type": "display_data"
    }
   ],
   "source": [
    "result = airbnb_pred.select(['id', 'prediction'])"
   ]
  },
  {
   "cell_type": "code",
   "execution_count": 15,
   "metadata": {},
   "outputs": [
    {
     "data": {
      "application/vnd.jupyter.widget-view+json": {
       "model_id": "4567e5b060fe44eebf99b9799eb65344",
       "version_major": 2,
       "version_minor": 0
      },
      "text/plain": [
       "VBox()"
      ]
     },
     "metadata": {},
     "output_type": "display_data"
    },
    {
     "data": {
      "application/vnd.jupyter.widget-view+json": {
       "model_id": "",
       "version_major": 2,
       "version_minor": 0
      },
      "text/plain": [
       "FloatProgress(value=0.0, bar_style='info', description='Progress:', layout=Layout(height='25px', width='50%'),…"
      ]
     },
     "metadata": {},
     "output_type": "display_data"
    },
    {
     "name": "stdout",
     "output_type": "stream",
     "text": [
      "595381"
     ]
    }
   ],
   "source": [
    "result.count()"
   ]
  },
  {
   "cell_type": "code",
   "execution_count": 14,
   "metadata": {},
   "outputs": [
    {
     "data": {
      "application/vnd.jupyter.widget-view+json": {
       "model_id": "6af0f1ae0a584e7da44bef7db81c05d7",
       "version_major": 2,
       "version_minor": 0
      },
      "text/plain": [
       "VBox()"
      ]
     },
     "metadata": {},
     "output_type": "display_data"
    },
    {
     "data": {
      "application/vnd.jupyter.widget-view+json": {
       "model_id": "",
       "version_major": 2,
       "version_minor": 0
      },
      "text/plain": [
       "FloatProgress(value=0.0, bar_style='info', description='Progress:', layout=Layout(height='25px', width='50%'),…"
      ]
     },
     "metadata": {},
     "output_type": "display_data"
    }
   ],
   "source": [
    "# save predicted results\n",
    "#result.coalesce(1).write.csv('s3://dse230-project-data1/result.csv/', mode='overwrite')"
   ]
  }
 ],
 "metadata": {
  "kernelspec": {
   "display_name": "Python 3",
   "language": "python",
   "name": "python3"
  },
  "language_info": {
   "codemirror_mode": {
    "name": "ipython",
    "version": 3
   },
   "file_extension": ".py",
   "mimetype": "text/x-python",
   "name": "python",
   "nbconvert_exporter": "python",
   "pygments_lexer": "ipython3",
   "version": "3.8.2"
  }
 },
 "nbformat": 4,
 "nbformat_minor": 5
}
