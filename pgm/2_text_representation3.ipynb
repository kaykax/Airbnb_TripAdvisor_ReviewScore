{
 "cells": [
  {
   "cell_type": "markdown",
   "metadata": {},
   "source": [
    "# Part 2 Text Representation\n",
    "\n",
    "#### This notebook contains different ways to represent word vectors from previous processed ``review`` data.\n",
    "\n",
    "Methods we transform tokens to word vectors are:\n",
    "\n",
    "- #### Bag of Words(BOW)\n",
    "    - represent tokens by bow vector\n",
    "    - calculate bow tfidf\n",
    "- #### Bigrams\n",
    "    - represent bigram tokens\n",
    "    - calculate bigram tfidf  \n",
    "- #### Word Embeddings"
   ]
  },
  {
   "cell_type": "markdown",
   "metadata": {},
   "source": [
    "<br></br>"
   ]
  },
  {
   "cell_type": "code",
   "execution_count": 1,
   "metadata": {},
   "outputs": [
    {
     "data": {
      "application/vnd.jupyter.widget-view+json": {
       "model_id": "3509eea9a29c49d6ad48bc779aa6b760",
       "version_major": 2,
       "version_minor": 0
      },
      "text/plain": [
       "VBox()"
      ]
     },
     "metadata": {},
     "output_type": "display_data"
    },
    {
     "name": "stdout",
     "output_type": "stream",
     "text": [
      "Starting Spark application\n"
     ]
    },
    {
     "data": {
      "text/html": [
       "<table>\n",
       "<tr><th>ID</th><th>YARN Application ID</th><th>Kind</th><th>State</th><th>Spark UI</th><th>Driver log</th><th>Current session?</th></tr><tr><td>7</td><td>application_1622827002238_0008</td><td>pyspark</td><td>idle</td><td><a target=\"_blank\" href=\"http://ip-172-31-11-54.us-west-1.compute.internal:20888/proxy/application_1622827002238_0008/\" >Link</a></td><td><a target=\"_blank\" href=\"http://ip-172-31-4-209.us-west-1.compute.internal:8042/node/containerlogs/container_1622827002238_0008_01_000001/livy\" >Link</a></td><td>✔</td></tr></table>"
      ],
      "text/plain": [
       "<IPython.core.display.HTML object>"
      ]
     },
     "metadata": {},
     "output_type": "display_data"
    },
    {
     "data": {
      "application/vnd.jupyter.widget-view+json": {
       "model_id": "",
       "version_major": 2,
       "version_minor": 0
      },
      "text/plain": [
       "FloatProgress(value=0.0, bar_style='info', description='Progress:', layout=Layout(height='25px', width='50%'),…"
      ]
     },
     "metadata": {},
     "output_type": "display_data"
    },
    {
     "name": "stdout",
     "output_type": "stream",
     "text": [
      "SparkSession available as 'spark'.\n"
     ]
    },
    {
     "data": {
      "application/vnd.jupyter.widget-view+json": {
       "model_id": "",
       "version_major": 2,
       "version_minor": 0
      },
      "text/plain": [
       "FloatProgress(value=0.0, bar_style='info', description='Progress:', layout=Layout(height='25px', width='50%'),…"
      ]
     },
     "metadata": {},
     "output_type": "display_data"
    }
   ],
   "source": [
    "import numpy as np\n",
    "import pyspark\n",
    "from pyspark.sql import SparkSession\n",
    "\n",
    "from pyspark.ml.feature import CountVectorizer, HashingTF, IDF, NGram, Word2Vec\n",
    "from pyspark.ml import Pipeline"
   ]
  },
  {
   "cell_type": "markdown",
   "metadata": {},
   "source": [
    "#### load preprocessed tokens"
   ]
  },
  {
   "cell_type": "code",
   "execution_count": 1,
   "metadata": {},
   "outputs": [
    {
     "data": {
      "application/vnd.jupyter.widget-view+json": {
       "model_id": "90c36365b0a946d9b32d536705f9f226",
       "version_major": 2,
       "version_minor": 0
      },
      "text/plain": [
       "VBox()"
      ]
     },
     "metadata": {},
     "output_type": "display_data"
    },
    {
     "name": "stdout",
     "output_type": "stream",
     "text": [
      "Starting Spark application\n"
     ]
    },
    {
     "data": {
      "text/html": [
       "<table>\n",
       "<tr><th>ID</th><th>YARN Application ID</th><th>Kind</th><th>State</th><th>Spark UI</th><th>Driver log</th><th>Current session?</th></tr><tr><td>4</td><td>application_1622750579192_0005</td><td>pyspark</td><td>idle</td><td><a target=\"_blank\" href=\"http://ip-172-31-12-28.us-west-1.compute.internal:20888/proxy/application_1622750579192_0005/\" class=\"emr-proxy-link\" emr-resource=\"j-2L8FG58CQI5FW\n",
       "\" application-id=\"application_1622750579192_0005\">Link</a></td><td><a target=\"_blank\" href=\"http://ip-172-31-12-87.us-west-1.compute.internal:8042/node/containerlogs/container_1622750579192_0005_01_000001/livy\" >Link</a></td><td>✔</td></tr></table>"
      ],
      "text/plain": [
       "<IPython.core.display.HTML object>"
      ]
     },
     "metadata": {},
     "output_type": "display_data"
    },
    {
     "data": {
      "application/vnd.jupyter.widget-view+json": {
       "model_id": "",
       "version_major": 2,
       "version_minor": 0
      },
      "text/plain": [
       "FloatProgress(value=0.0, bar_style='info', description='Progress:', layout=Layout(height='25px', width='50%'),…"
      ]
     },
     "metadata": {},
     "output_type": "display_data"
    },
    {
     "name": "stdout",
     "output_type": "stream",
     "text": [
      "SparkSession available as 'spark'.\n"
     ]
    },
    {
     "data": {
      "application/vnd.jupyter.widget-view+json": {
       "model_id": "",
       "version_major": 2,
       "version_minor": 0
      },
      "text/plain": [
       "FloatProgress(value=0.0, bar_style='info', description='Progress:', layout=Layout(height='25px', width='50%'),…"
      ]
     },
     "metadata": {},
     "output_type": "display_data"
    }
   ],
   "source": [
    "clean_tokens = spark.read.parquet(\"s3://dse230-project-data1/final_token.parquet\")"
   ]
  },
  {
   "cell_type": "code",
   "execution_count": 4,
   "metadata": {},
   "outputs": [
    {
     "data": {
      "application/vnd.jupyter.widget-view+json": {
       "model_id": "ade64c7091ac4033aaa65c784516e288",
       "version_major": 2,
       "version_minor": 0
      },
      "text/plain": [
       "VBox()"
      ]
     },
     "metadata": {},
     "output_type": "display_data"
    },
    {
     "data": {
      "application/vnd.jupyter.widget-view+json": {
       "model_id": "",
       "version_major": 2,
       "version_minor": 0
      },
      "text/plain": [
       "FloatProgress(value=0.0, bar_style='info', description='Progress:', layout=Layout(height='25px', width='50%'),…"
      ]
     },
     "metadata": {},
     "output_type": "display_data"
    },
    {
     "name": "stdout",
     "output_type": "stream",
     "text": [
      "root\n",
      " |-- unigrams: array (nullable = true)\n",
      " |    |-- element: string (containsNull = true)\n",
      " |-- is_helpful: integer (nullable = true)"
     ]
    }
   ],
   "source": [
    "clean_tokens.printSchema()"
   ]
  },
  {
   "cell_type": "markdown",
   "metadata": {},
   "source": [
    "<br></br>"
   ]
  },
  {
   "cell_type": "markdown",
   "metadata": {},
   "source": [
    "## Bag of Words"
   ]
  },
  {
   "cell_type": "markdown",
   "metadata": {},
   "source": [
    "#### Create BOW representation"
   ]
  },
  {
   "cell_type": "code",
   "execution_count": 4,
   "metadata": {},
   "outputs": [
    {
     "data": {
      "application/vnd.jupyter.widget-view+json": {
       "model_id": "ceb71b77a5e946b0a18558a60176373c",
       "version_major": 2,
       "version_minor": 0
      },
      "text/plain": [
       "VBox()"
      ]
     },
     "metadata": {},
     "output_type": "display_data"
    },
    {
     "data": {
      "application/vnd.jupyter.widget-view+json": {
       "model_id": "",
       "version_major": 2,
       "version_minor": 0
      },
      "text/plain": [
       "FloatProgress(value=0.0, bar_style='info', description='Progress:', layout=Layout(height='25px', width='50%'),…"
      ]
     },
     "metadata": {},
     "output_type": "display_data"
    },
    {
     "name": "stdout",
     "output_type": "stream",
     "text": [
      "root\n",
      " |-- unigrams: array (nullable = true)\n",
      " |    |-- element: string (containsNull = true)\n",
      " |-- is_helpful: integer (nullable = true)\n",
      " |-- bow: vector (nullable = true)\n",
      "\n",
      "+--------------------+----------+--------------------+\n",
      "|            unigrams|is_helpful|                 bow|\n",
      "+--------------------+----------+--------------------+\n",
      "|[stay, king, suit...|         0|(10000,[0,1,2,3,4...|\n",
      "|[everi, visit, ny...|         0|(10000,[0,1,2,3,4...|\n",
      "|[great, properti,...|         0|(10000,[1,2,3,8,1...|\n",
      "|[andaz, nice, hot...|         0|(10000,[0,1,2,5,8...|\n",
      "|[stay, andaz, pro...|         0|(10000,[0,1,2,3,6...|\n",
      "|[excel, staff, re...|         0|(10000,[0,1,2,4,5...|\n",
      "|[stay, setai, nig...|         0|(10000,[0,1,2,6,1...|\n",
      "|[husband, stay, c...|         0|(10000,[0,1,2,3,5...|\n",
      "|[wonder, boutiqu,...|         0|(10000,[0,5,7,15,...|\n",
      "|[hotel, nice, sta...|         0|(10000,[0,1,2,3,4...|\n",
      "|[ive, stay, star,...|         0|(10000,[0,1,2,4,5...|\n",
      "|[stay, hotel, fou...|         0|(10000,[0,1,2,4,5...|\n",
      "|[hotel, good, hig...|         0|(10000,[0,3,4,5,6...|\n",
      "|[chose, san, carl...|         0|(10000,[1,2,3,4,5...|\n",
      "|[servic, locat, c...|         0|(10000,[0,3,5,10,...|\n",
      "|[one, best, favor...|         1|(10000,[0,2,4,5,1...|\n",
      "|[pull, curb, fron...|         1|(10000,[0,33,90,1...|\n",
      "|[love, hotel, gre...|         0|(10000,[0,1,3,4,5...|\n",
      "|[first, stay, upp...|         0|(10000,[0,1,2,3,8...|\n",
      "|[great, room, big...|         0|(10000,[1,3,5,7,1...|\n",
      "+--------------------+----------+--------------------+\n",
      "only showing top 20 rows"
     ]
    }
   ],
   "source": [
    "# define & fit `bow` transformer\n",
    "countVectorizer = CountVectorizer(inputCol=\"unigrams\", outputCol=\"bow\", vocabSize=10000, minDF=5)\n",
    "bow_transformer = countVectorizer.fit(clean_tokens)\n",
    "\n",
    "# transform tokens to `bow`\n",
    "df = bow_transformer.transform(clean_tokens)\n",
    "df.printSchema()\n",
    "df.show()"
   ]
  },
  {
   "cell_type": "markdown",
   "metadata": {},
   "source": [
    "#### calculate tf-idf for BOW\n",
    "note: ``CountVectorizer`` performs the same functionality as ``HashingTF`` transformer, we we directly calculate ``idf`` term from previous step."
   ]
  },
  {
   "cell_type": "code",
   "execution_count": 5,
   "metadata": {},
   "outputs": [
    {
     "data": {
      "application/vnd.jupyter.widget-view+json": {
       "model_id": "ab675d3290854bdea285f94ec1e59be8",
       "version_major": 2,
       "version_minor": 0
      },
      "text/plain": [
       "VBox()"
      ]
     },
     "metadata": {},
     "output_type": "display_data"
    },
    {
     "data": {
      "application/vnd.jupyter.widget-view+json": {
       "model_id": "",
       "version_major": 2,
       "version_minor": 0
      },
      "text/plain": [
       "FloatProgress(value=0.0, bar_style='info', description='Progress:', layout=Layout(height='25px', width='50%'),…"
      ]
     },
     "metadata": {},
     "output_type": "display_data"
    }
   ],
   "source": [
    "# define idf transformer\n",
    "idf = IDF(inputCol=\"bow\", outputCol=\"bow_tfidf\", minDocFreq=5) # minDocFreq: remove sparse terms\n",
    "idf_transformer = idf.fit(df)\n",
    "\n",
    "# transform tfidf\n",
    "df = idf_transformer.transform(df)"
   ]
  },
  {
   "cell_type": "code",
   "execution_count": 6,
   "metadata": {},
   "outputs": [
    {
     "data": {
      "application/vnd.jupyter.widget-view+json": {
       "model_id": "5083eded93954dedb4d7ec180f58985e",
       "version_major": 2,
       "version_minor": 0
      },
      "text/plain": [
       "VBox()"
      ]
     },
     "metadata": {},
     "output_type": "display_data"
    },
    {
     "data": {
      "application/vnd.jupyter.widget-view+json": {
       "model_id": "",
       "version_major": 2,
       "version_minor": 0
      },
      "text/plain": [
       "FloatProgress(value=0.0, bar_style='info', description='Progress:', layout=Layout(height='25px', width='50%'),…"
      ]
     },
     "metadata": {},
     "output_type": "display_data"
    },
    {
     "name": "stdout",
     "output_type": "stream",
     "text": [
      "root\n",
      " |-- unigrams: array (nullable = true)\n",
      " |    |-- element: string (containsNull = true)\n",
      " |-- is_helpful: integer (nullable = true)\n",
      " |-- bow: vector (nullable = true)\n",
      " |-- bow_tfidf: vector (nullable = true)\n",
      "\n",
      "+--------------------+----------+--------------------+--------------------+\n",
      "|            unigrams|is_helpful|                 bow|           bow_tfidf|\n",
      "+--------------------+----------+--------------------+--------------------+\n",
      "|[stay, king, suit...|         0|(10000,[0,1,2,3,4...|(10000,[0,1,2,3,4...|\n",
      "|[everi, visit, ny...|         0|(10000,[0,1,2,3,4...|(10000,[0,1,2,3,4...|\n",
      "|[great, properti,...|         0|(10000,[1,2,3,8,1...|(10000,[1,2,3,8,1...|\n",
      "|[andaz, nice, hot...|         0|(10000,[0,1,2,5,8...|(10000,[0,1,2,5,8...|\n",
      "|[stay, andaz, pro...|         0|(10000,[0,1,2,3,6...|(10000,[0,1,2,3,6...|\n",
      "|[excel, staff, re...|         0|(10000,[0,1,2,4,5...|(10000,[0,1,2,4,5...|\n",
      "|[stay, setai, nig...|         0|(10000,[0,1,2,6,1...|(10000,[0,1,2,6,1...|\n",
      "|[husband, stay, c...|         0|(10000,[0,1,2,3,5...|(10000,[0,1,2,3,5...|\n",
      "|[wonder, boutiqu,...|         0|(10000,[0,5,7,15,...|(10000,[0,5,7,15,...|\n",
      "|[hotel, nice, sta...|         0|(10000,[0,1,2,3,4...|(10000,[0,1,2,3,4...|\n",
      "|[ive, stay, star,...|         0|(10000,[0,1,2,4,5...|(10000,[0,1,2,4,5...|\n",
      "|[stay, hotel, fou...|         0|(10000,[0,1,2,4,5...|(10000,[0,1,2,4,5...|\n",
      "|[hotel, good, hig...|         0|(10000,[0,3,4,5,6...|(10000,[0,3,4,5,6...|\n",
      "|[chose, san, carl...|         0|(10000,[1,2,3,4,5...|(10000,[1,2,3,4,5...|\n",
      "|[servic, locat, c...|         0|(10000,[0,3,5,10,...|(10000,[0,3,5,10,...|\n",
      "|[one, best, favor...|         1|(10000,[0,2,4,5,1...|(10000,[0,2,4,5,1...|\n",
      "|[pull, curb, fron...|         1|(10000,[0,33,90,1...|(10000,[0,33,90,1...|\n",
      "|[love, hotel, gre...|         0|(10000,[0,1,3,4,5...|(10000,[0,1,3,4,5...|\n",
      "|[first, stay, upp...|         0|(10000,[0,1,2,3,8...|(10000,[0,1,2,3,8...|\n",
      "|[great, room, big...|         0|(10000,[1,3,5,7,1...|(10000,[1,3,5,7,1...|\n",
      "+--------------------+----------+--------------------+--------------------+\n",
      "only showing top 20 rows"
     ]
    }
   ],
   "source": [
    "df.printSchema()\n",
    "df.show()"
   ]
  },
  {
   "cell_type": "markdown",
   "metadata": {},
   "source": [
    "<br></br>"
   ]
  },
  {
   "cell_type": "markdown",
   "metadata": {},
   "source": [
    "## Bigrams\n",
    "- First, generate bigram representation\n",
    "- Then calculate bigram tfidf"
   ]
  },
  {
   "cell_type": "markdown",
   "metadata": {},
   "source": [
    "#### Create bigram vectors"
   ]
  },
  {
   "cell_type": "code",
   "execution_count": 6,
   "metadata": {},
   "outputs": [
    {
     "data": {
      "application/vnd.jupyter.widget-view+json": {
       "model_id": "71d2fc548b9b452089cc0cad07673a58",
       "version_major": 2,
       "version_minor": 0
      },
      "text/plain": [
       "VBox()"
      ]
     },
     "metadata": {},
     "output_type": "display_data"
    },
    {
     "data": {
      "application/vnd.jupyter.widget-view+json": {
       "model_id": "",
       "version_major": 2,
       "version_minor": 0
      },
      "text/plain": [
       "FloatProgress(value=0.0, bar_style='info', description='Progress:', layout=Layout(height='25px', width='50%'),…"
      ]
     },
     "metadata": {},
     "output_type": "display_data"
    },
    {
     "name": "stdout",
     "output_type": "stream",
     "text": [
      "root\n",
      " |-- unigrams: array (nullable = true)\n",
      " |    |-- element: string (containsNull = true)\n",
      " |-- is_helpful: integer (nullable = true)\n",
      " |-- bow: vector (nullable = true)\n",
      " |-- bow_tfidf: vector (nullable = true)\n",
      " |-- bigrams: array (nullable = true)\n",
      " |    |-- element: string (containsNull = false)\n",
      "\n",
      "+--------------------+----------+--------------------+--------------------+--------------------+\n",
      "|            unigrams|is_helpful|                 bow|           bow_tfidf|             bigrams|\n",
      "+--------------------+----------+--------------------+--------------------+--------------------+\n",
      "|[stay, king, suit...|         0|(10000,[0,1,2,3,4...|(10000,[0,1,2,3,4...|[stay king, king ...|\n",
      "|[everi, visit, ny...|         0|(10000,[0,1,2,3,4...|(10000,[0,1,2,3,4...|[everi visit, vis...|\n",
      "|[great, properti,...|         0|(10000,[1,2,3,8,1...|(10000,[1,2,3,8,1...|[great properti, ...|\n",
      "|[andaz, nice, hot...|         0|(10000,[0,1,2,5,8...|(10000,[0,1,2,5,8...|[andaz nice, nice...|\n",
      "|[stay, andaz, pro...|         0|(10000,[0,1,2,3,6...|(10000,[0,1,2,3,6...|[stay andaz, anda...|\n",
      "|[excel, staff, re...|         0|(10000,[0,1,2,4,5...|(10000,[0,1,2,4,5...|[excel staff, sta...|\n",
      "|[stay, setai, nig...|         0|(10000,[0,1,2,6,1...|(10000,[0,1,2,6,1...|[stay setai, seta...|\n",
      "|[husband, stay, c...|         0|(10000,[0,1,2,3,5...|(10000,[0,1,2,3,5...|[husband stay, st...|\n",
      "|[wonder, boutiqu,...|         0|(10000,[0,5,7,15,...|(10000,[0,5,7,15,...|[wonder boutiqu, ...|\n",
      "|[hotel, nice, sta...|         0|(10000,[0,1,2,3,4...|(10000,[0,1,2,3,4...|[hotel nice, nice...|\n",
      "|[ive, stay, star,...|         0|(10000,[0,1,2,4,5...|(10000,[0,1,2,4,5...|[ive stay, stay s...|\n",
      "|[stay, hotel, fou...|         0|(10000,[0,1,2,4,5...|(10000,[0,1,2,4,5...|[stay hotel, hote...|\n",
      "|[hotel, good, hig...|         0|(10000,[0,3,4,5,6...|(10000,[0,3,4,5,6...|[hotel good, good...|\n",
      "|[chose, san, carl...|         0|(10000,[1,2,3,4,5...|(10000,[1,2,3,4,5...|[chose san, san c...|\n",
      "|[servic, locat, c...|         0|(10000,[0,3,5,10,...|(10000,[0,3,5,10,...|[servic locat, lo...|\n",
      "|[one, best, favor...|         1|(10000,[0,2,4,5,1...|(10000,[0,2,4,5,1...|[one best, best f...|\n",
      "|[pull, curb, fron...|         1|(10000,[0,33,90,1...|(10000,[0,33,90,1...|[pull curb, curb ...|\n",
      "|[love, hotel, gre...|         0|(10000,[0,1,3,4,5...|(10000,[0,1,3,4,5...|[love hotel, hote...|\n",
      "|[first, stay, upp...|         0|(10000,[0,1,2,3,8...|(10000,[0,1,2,3,8...|[first stay, stay...|\n",
      "|[great, room, big...|         0|(10000,[1,3,5,7,1...|(10000,[1,3,5,7,1...|[great room, room...|\n",
      "+--------------------+----------+--------------------+--------------------+--------------------+\n",
      "only showing top 20 rows"
     ]
    }
   ],
   "source": [
    "# define NGram transformer\n",
    "ngram = NGram(n=2, inputCol=\"unigrams\", outputCol=\"bigrams\")\n",
    "\n",
    "# create bigram_df as a transform of unigram_df using NGram tranformer\n",
    "df = ngram.transform(df)\n",
    "\n",
    "# check result\n",
    "df.printSchema()\n",
    "df.show()"
   ]
  },
  {
   "cell_type": "markdown",
   "metadata": {},
   "source": [
    "#### Calculate tf-idf for bigram"
   ]
  },
  {
   "cell_type": "code",
   "execution_count": 7,
   "metadata": {},
   "outputs": [
    {
     "data": {
      "application/vnd.jupyter.widget-view+json": {
       "model_id": "720e42b4059640ae8137121a92671f60",
       "version_major": 2,
       "version_minor": 0
      },
      "text/plain": [
       "VBox()"
      ]
     },
     "metadata": {},
     "output_type": "display_data"
    },
    {
     "data": {
      "application/vnd.jupyter.widget-view+json": {
       "model_id": "",
       "version_major": 2,
       "version_minor": 0
      },
      "text/plain": [
       "FloatProgress(value=0.0, bar_style='info', description='Progress:', layout=Layout(height='25px', width='50%'),…"
      ]
     },
     "metadata": {},
     "output_type": "display_data"
    }
   ],
   "source": [
    "hashingTF = HashingTF(inputCol=\"bigrams\", outputCol=\"bigram_tf\", numFeatures=10000)\n",
    "df = hashingTF.transform(df)"
   ]
  },
  {
   "cell_type": "code",
   "execution_count": 8,
   "metadata": {},
   "outputs": [
    {
     "data": {
      "application/vnd.jupyter.widget-view+json": {
       "model_id": "6819ab9840534f22a224e3ead4bf2a07",
       "version_major": 2,
       "version_minor": 0
      },
      "text/plain": [
       "VBox()"
      ]
     },
     "metadata": {},
     "output_type": "display_data"
    },
    {
     "data": {
      "application/vnd.jupyter.widget-view+json": {
       "model_id": "",
       "version_major": 2,
       "version_minor": 0
      },
      "text/plain": [
       "FloatProgress(value=0.0, bar_style='info', description='Progress:', layout=Layout(height='25px', width='50%'),…"
      ]
     },
     "metadata": {},
     "output_type": "display_data"
    }
   ],
   "source": [
    "bigram_idf = IDF(inputCol=\"bigram_tf\", outputCol=\"bigram_tfidf\")\n",
    "bigram_idf_transformer = bigram_idf.fit(df)\n",
    "df = bigram_idf_transformer.transform(df)"
   ]
  },
  {
   "cell_type": "markdown",
   "metadata": {},
   "source": [
    "<br></br>"
   ]
  },
  {
   "cell_type": "markdown",
   "metadata": {},
   "source": [
    "## Word embeddings"
   ]
  },
  {
   "cell_type": "code",
   "execution_count": 10,
   "metadata": {},
   "outputs": [
    {
     "data": {
      "application/vnd.jupyter.widget-view+json": {
       "model_id": "917b6b44a9eb4c829d6f0271e79865ad",
       "version_major": 2,
       "version_minor": 0
      },
      "text/plain": [
       "VBox()"
      ]
     },
     "metadata": {},
     "output_type": "display_data"
    },
    {
     "data": {
      "application/vnd.jupyter.widget-view+json": {
       "model_id": "",
       "version_major": 2,
       "version_minor": 0
      },
      "text/plain": [
       "FloatProgress(value=0.0, bar_style='info', description='Progress:', layout=Layout(height='25px', width='50%'),…"
      ]
     },
     "metadata": {},
     "output_type": "display_data"
    }
   ],
   "source": [
    "#create an average word vector for each document\n",
    "word2vec = Word2Vec(vectorSize = 100, minCount = 5, inputCol = 'unigrams', outputCol = 'word2vec')\n",
    "#word2vec_transformer = word2vec.fit(df)"
   ]
  },
  {
   "cell_type": "code",
   "execution_count": null,
   "metadata": {},
   "outputs": [],
   "source": [
    "#df = word2vec_transformer.transform(df)\n",
    "text_df = df.select(['is_helpful','unigrams','bow','bow_tfidf','bigrams','bigram_tfidf','word2vec'])"
   ]
  },
  {
   "cell_type": "code",
   "execution_count": 21,
   "metadata": {},
   "outputs": [
    {
     "data": {
      "application/vnd.jupyter.widget-view+json": {
       "model_id": "7a0f0db080744f639c142028230394de",
       "version_major": 2,
       "version_minor": 0
      },
      "text/plain": [
       "VBox()"
      ]
     },
     "metadata": {},
     "output_type": "display_data"
    },
    {
     "data": {
      "application/vnd.jupyter.widget-view+json": {
       "model_id": "",
       "version_major": 2,
       "version_minor": 0
      },
      "text/plain": [
       "FloatProgress(value=0.0, bar_style='info', description='Progress:', layout=Layout(height='25px', width='50%'),…"
      ]
     },
     "metadata": {},
     "output_type": "display_data"
    },
    {
     "name": "stdout",
     "output_type": "stream",
     "text": [
      "root\n",
      " |-- is_helpful: integer (nullable = true)\n",
      " |-- unigrams: array (nullable = true)\n",
      " |    |-- element: string (containsNull = true)\n",
      " |-- bow: vector (nullable = true)\n",
      " |-- bow_tfidf: vector (nullable = true)\n",
      " |-- bigrams: array (nullable = true)\n",
      " |    |-- element: string (containsNull = false)\n",
      " |-- bigram_tfidf: vector (nullable = true)\n",
      " |-- word2vec: vector (nullable = true)\n",
      "\n",
      "+----------+--------------------+--------------------+--------------------+--------------------+--------------------+--------------------+\n",
      "|is_helpful|            unigrams|                 bow|           bow_tfidf|             bigrams|        bigram_tfidf|            word2vec|\n",
      "+----------+--------------------+--------------------+--------------------+--------------------+--------------------+--------------------+\n",
      "|         0|[stay, one, room,...|(10000,[1,2,3,5,6...|(10000,[1,2,3,5,6...|[stay one, one ro...|(10000,[82,90,150...|[-0.0535272059800...|\n",
      "|         0|[hotel, locat, we...|(10000,[0,1,3,5,7...|(10000,[0,1,3,5,7...|[hotel locat, loc...|(10000,[8,353,607...|[-0.1808902004822...|\n",
      "|         0|[stay, washington...|(10000,[0,1,2,4,5...|(10000,[0,1,2,4,5...|[stay washington,...|(10000,[123,173,3...|[-0.1171102180790...|\n",
      "|         1|[wow, couldnt, as...|(10000,[0,1,4,5,7...|(10000,[0,1,4,5,7...|[wow couldnt, cou...|(10000,[256,314,3...|[-0.1092608061391...|\n",
      "|         1|[room, small, cle...|(10000,[0,1,2,6,1...|(10000,[0,1,2,6,1...|[room small, smal...|(10000,[123,368,3...|[-0.0255102536466...|\n",
      "|         0|[stay, holiday, i...|(10000,[0,1,2,5,6...|(10000,[0,1,2,5,6...|[stay holiday, ho...|(10000,[175,230,3...|[-0.1746368520578...|\n",
      "|         1|[stay, properti, ...|(10000,[1,2,4,6,1...|(10000,[1,2,4,6,1...|[stay properti, p...|(10000,[353,815,8...|[-0.0730377745563...|\n",
      "|         0|[second, stay, ho...|(10000,[0,1,2,7,1...|(10000,[0,1,2,7,1...|[second stay, sta...|(10000,[683,955,1...|[-0.1634226192075...|\n",
      "|         0|[stay, three, nig...|(10000,[0,1,2,3,4...|(10000,[0,1,2,3,4...|[stay three, thre...|(10000,[151,178,1...|[-0.1078741823713...|\n",
      "|         0|[husband, stay, h...|(10000,[0,1,2,3,4...|(10000,[0,1,2,3,4...|[husband stay, st...|(10000,[320,388,4...|[-0.1309694253967...|\n",
      "|         0|[stay, week, hera...|(10000,[0,1,2,4,8...|(10000,[0,1,2,4,8...|[stay week, week ...|(10000,[440,665,1...|[-0.1018664206216...|\n",
      "|         0|[hotel, block, ti...|(10000,[0,1,5,7,8...|(10000,[0,1,5,7,8...|[hotel block, blo...|(10000,[641,817,9...|[-0.1056822480081...|\n",
      "|         0|[wife, son, stay,...|(10000,[0,1,2,7,1...|(10000,[0,1,2,7,1...|[wife son, son st...|(10000,[263,486,5...|[-0.1220608707683...|\n",
      "|         1|[hotel, seem, goo...|(10000,[0,1,9,11,...|(10000,[0,1,9,11,...|[hotel seem, seem...|(10000,[11,173,25...|[-0.0300106605155...|\n",
      "|         1|[stay, mani, hote...|(10000,[0,1,2,3,5...|(10000,[0,1,2,3,5...|[stay mani, mani ...|(10000,[63,64,134...|[-0.1089116021815...|\n",
      "|         1|[alojamo, durant,...|(10000,[0,131,234...|(10000,[0,131,234...|[alojamo durant, ...|(10000,[43,70,406...|[0.33996509990476...|\n",
      "|         1|[hotel, quinta, m...|(10000,[0,45,131,...|(10000,[0,45,131,...|[hotel quinta, qu...|(10000,[84,91,102...|[0.40203407834652...|\n",
      "|         1|[hola, genteestuv...|(10000,[0,7,69,19...|(10000,[0,7,69,19...|[hola genteestuvi...|(10000,[67,427,42...|[0.34753175085689...|\n",
      "|         0|[hotel, bien, sit...|(10000,[0,7,18,45...|(10000,[0,7,18,45...|[hotel bien, bien...|(10000,[18,384,68...|[-0.0697763589538...|\n",
      "|         0|[geweldig, leuk, ...|(10000,[0,7,12,18...|(10000,[0,7,12,18...|[geweldig leuk, l...|(10000,[18,150,16...|[-0.1744695183200...|\n",
      "+----------+--------------------+--------------------+--------------------+--------------------+--------------------+--------------------+\n",
      "only showing top 20 rows"
     ]
    }
   ],
   "source": [
    "text_df.printSchema()\n",
    "text_df.show()"
   ]
  },
  {
   "cell_type": "code",
   "execution_count": 22,
   "metadata": {},
   "outputs": [
    {
     "data": {
      "application/vnd.jupyter.widget-view+json": {
       "model_id": "943fd84b4b1449bfa5baa90ac2280576",
       "version_major": 2,
       "version_minor": 0
      },
      "text/plain": [
       "VBox()"
      ]
     },
     "metadata": {},
     "output_type": "display_data"
    },
    {
     "data": {
      "application/vnd.jupyter.widget-view+json": {
       "model_id": "",
       "version_major": 2,
       "version_minor": 0
      },
      "text/plain": [
       "FloatProgress(value=0.0, bar_style='info', description='Progress:', layout=Layout(height='25px', width='50%'),…"
      ]
     },
     "metadata": {},
     "output_type": "display_data"
    }
   ],
   "source": [
    "# save processed result to parquet for modeling\n",
    "#text_df.coalesce(5).write.parquet('s3://dse230-project-data1/text_df.parquet', mode=\"overwrite\")"
   ]
  },
  {
   "cell_type": "markdown",
   "metadata": {},
   "source": [
    "<br></br>"
   ]
  },
  {
   "cell_type": "markdown",
   "metadata": {},
   "source": [
    "## An all-included Pipeline"
   ]
  },
  {
   "cell_type": "code",
   "execution_count": 8,
   "metadata": {},
   "outputs": [
    {
     "data": {
      "application/vnd.jupyter.widget-view+json": {
       "model_id": "6fd851ae7e6a4e078173fde48738452f",
       "version_major": 2,
       "version_minor": 0
      },
      "text/plain": [
       "VBox()"
      ]
     },
     "metadata": {},
     "output_type": "display_data"
    },
    {
     "data": {
      "application/vnd.jupyter.widget-view+json": {
       "model_id": "",
       "version_major": 2,
       "version_minor": 0
      },
      "text/plain": [
       "FloatProgress(value=0.0, bar_style='info', description='Progress:', layout=Layout(height='25px', width='50%'),…"
      ]
     },
     "metadata": {},
     "output_type": "display_data"
    }
   ],
   "source": [
    "countVectorizer = CountVectorizer(inputCol=\"unigrams\", outputCol=\"bow\", vocabSize=10000, minDF=5)\n",
    "idf = IDF(inputCol=\"bow\", outputCol=\"bow_tfidf\", minDocFreq=5)\n",
    "ngram = NGram(n=2, inputCol=\"unigrams\", outputCol=\"bigrams\")\n",
    "hashingTF = HashingTF(inputCol=\"bigrams\", outputCol=\"bigram_tf\", numFeatures=10000)\n",
    "bigram_idf = IDF(inputCol=\"bigram_tf\", outputCol=\"bigram_tfidf\")\n",
    "word2vec = Word2Vec(vectorSize = 100, minCount = 5, inputCol = 'unigrams', outputCol = 'word2vec')\n",
    "\n",
    "pipeline = Pipeline(stages=[countVectorizer, idf, ngram, hashingTF, bigram_idf, word2vec])\n",
    "#pipelineFit = pipeline.fit(clean_tokens)\n",
    "#df_for_test = pipelineFit.transform(clean_tokens)"
   ]
  },
  {
   "cell_type": "markdown",
   "metadata": {},
   "source": [
    "#### We will be only using `countVectorizer` to transform Airbnb reviews"
   ]
  },
  {
   "cell_type": "code",
   "execution_count": 6,
   "metadata": {},
   "outputs": [
    {
     "data": {
      "application/vnd.jupyter.widget-view+json": {
       "model_id": "10c8b7cf545a452a8c3e248a76e8ce54",
       "version_major": 2,
       "version_minor": 0
      },
      "text/plain": [
       "VBox()"
      ]
     },
     "metadata": {},
     "output_type": "display_data"
    },
    {
     "data": {
      "application/vnd.jupyter.widget-view+json": {
       "model_id": "",
       "version_major": 2,
       "version_minor": 0
      },
      "text/plain": [
       "FloatProgress(value=0.0, bar_style='info', description='Progress:', layout=Layout(height='25px', width='50%'),…"
      ]
     },
     "metadata": {},
     "output_type": "display_data"
    }
   ],
   "source": [
    "airbnb_tokens = spark.read.parquet(\"s3://dse230-project-data1/final_review.parquet\")"
   ]
  },
  {
   "cell_type": "code",
   "execution_count": 7,
   "metadata": {},
   "outputs": [
    {
     "data": {
      "application/vnd.jupyter.widget-view+json": {
       "model_id": "bee12dedd1c64cf6bbe77f5c041f2cdf",
       "version_major": 2,
       "version_minor": 0
      },
      "text/plain": [
       "VBox()"
      ]
     },
     "metadata": {},
     "output_type": "display_data"
    },
    {
     "data": {
      "application/vnd.jupyter.widget-view+json": {
       "model_id": "",
       "version_major": 2,
       "version_minor": 0
      },
      "text/plain": [
       "FloatProgress(value=0.0, bar_style='info', description='Progress:', layout=Layout(height='25px', width='50%'),…"
      ]
     },
     "metadata": {},
     "output_type": "display_data"
    },
    {
     "name": "stdout",
     "output_type": "stream",
     "text": [
      "root\n",
      " |-- unigrams: array (nullable = true)\n",
      " |    |-- element: string (containsNull = true)\n",
      " |-- id: string (nullable = true)"
     ]
    }
   ],
   "source": [
    "airbnb_tokens.printSchema()"
   ]
  },
  {
   "cell_type": "code",
   "execution_count": 11,
   "metadata": {},
   "outputs": [
    {
     "data": {
      "application/vnd.jupyter.widget-view+json": {
       "model_id": "a9bf81563fbe459ca8437be460e0a573",
       "version_major": 2,
       "version_minor": 0
      },
      "text/plain": [
       "VBox()"
      ]
     },
     "metadata": {},
     "output_type": "display_data"
    },
    {
     "data": {
      "application/vnd.jupyter.widget-view+json": {
       "model_id": "",
       "version_major": 2,
       "version_minor": 0
      },
      "text/plain": [
       "FloatProgress(value=0.0, bar_style='info', description='Progress:', layout=Layout(height='25px', width='50%'),…"
      ]
     },
     "metadata": {},
     "output_type": "display_data"
    }
   ],
   "source": [
    "# define & fit `bow` transformer\n",
    "countVectorizer2 = CountVectorizer(inputCol=\"unigrams\", outputCol=\"bow\", vocabSize=10000, minDF=5)\n",
    "bow_transformer2 = countVectorizer.fit(airbnb_tokens)\n",
    "\n",
    "# transform tokens to `bow`\n",
    "text_df2 = bow_transformer2.transform(airbnb_tokens)"
   ]
  },
  {
   "cell_type": "code",
   "execution_count": 13,
   "metadata": {},
   "outputs": [
    {
     "data": {
      "application/vnd.jupyter.widget-view+json": {
       "model_id": "d69ade7ae306416cbc31183aaf4cee3e",
       "version_major": 2,
       "version_minor": 0
      },
      "text/plain": [
       "VBox()"
      ]
     },
     "metadata": {},
     "output_type": "display_data"
    },
    {
     "data": {
      "application/vnd.jupyter.widget-view+json": {
       "model_id": "",
       "version_major": 2,
       "version_minor": 0
      },
      "text/plain": [
       "FloatProgress(value=0.0, bar_style='info', description='Progress:', layout=Layout(height='25px', width='50%'),…"
      ]
     },
     "metadata": {},
     "output_type": "display_data"
    },
    {
     "name": "stdout",
     "output_type": "stream",
     "text": [
      "+--------------------+---------+--------------------+\n",
      "|            unigrams|       id|                 bow|\n",
      "+--------------------+---------+--------------------+\n",
      "|[respons, help, h...|214904211|(10000,[1,2,10,12...|\n",
      "|[hous, perfect, c...|218048729|(10000,[0,1,2,10,...|\n",
      "|[famili, babi, sp...|219935056|(10000,[7,14,20,2...|\n",
      "|[great, hous, hil...|222829306|(10000,[0,2,4,18,...|\n",
      "|[airbnb, exactli,...|227447978|(10000,[10,12,23,...|\n",
      "|[group, wonder, s...|229828619|(10000,[0,2,3,4,5...|\n",
      "|[realli, enjoy, s...|231585560|(10000,[0,2,6,7,1...|\n",
      "|[thoroughli, enjo...|233713124|(10000,[0,2,8,9,1...|\n",
      "|[place, real, get...|236677318|(10000,[0,1,4,16,...|\n",
      "|[open, concept, h...|239212816|(10000,[2,6,7,11,...|\n",
      "|[host, cancel, re...|243379080|(10000,[10,32,106...|\n",
      "|[mahi, great, hos...|249212151|(10000,[0,2,10,21...|\n",
      "|[hous, beauti, pi...|251934875|(10000,[13,17,21,...|\n",
      "|[thank, everyth, ...|262128150|(10000,[0,7,8,19,...|\n",
      "|[home, truli, gor...|264815252|(10000,[0,7,8,20,...|\n",
      "|[mahi, hous, beau...|267497785|(10000,[0,1,9,13,...|\n",
      "|[beauti, home, fa...|270938245|(10000,[0,7,10,13...|\n",
      "|[beauti, place, g...|281460240|(10000,[0,1,6,9,1...|\n",
      "|[love, stay, spit...|283883225|(10000,[1,2,3,7,2...|\n",
      "|[wonder, hawaiian...|287988382|(10000,[10,11,12,...|\n",
      "+--------------------+---------+--------------------+\n",
      "only showing top 20 rows"
     ]
    }
   ],
   "source": [
    "text_df2.show()"
   ]
  },
  {
   "cell_type": "code",
   "execution_count": 12,
   "metadata": {},
   "outputs": [
    {
     "data": {
      "application/vnd.jupyter.widget-view+json": {
       "model_id": "0c1f96fcfa6640bd9657669c1d1b6196",
       "version_major": 2,
       "version_minor": 0
      },
      "text/plain": [
       "VBox()"
      ]
     },
     "metadata": {},
     "output_type": "display_data"
    },
    {
     "data": {
      "application/vnd.jupyter.widget-view+json": {
       "model_id": "",
       "version_major": 2,
       "version_minor": 0
      },
      "text/plain": [
       "FloatProgress(value=0.0, bar_style='info', description='Progress:', layout=Layout(height='25px', width='50%'),…"
      ]
     },
     "metadata": {},
     "output_type": "display_data"
    }
   ],
   "source": [
    "# save processed result to parquet for modeling\n",
    "#text_df2.coalesce(5).write.parquet('s3://dse230-project-data1/text_df2.parquet', mode=\"overwrite\")"
   ]
  }
 ],
 "metadata": {
  "kernelspec": {
   "display_name": "PySpark",
   "language": "",
   "name": "pysparkkernel"
  },
  "language_info": {
   "codemirror_mode": {
    "name": "python",
    "version": 3
   },
   "mimetype": "text/x-python",
   "name": "pyspark",
   "pygments_lexer": "python3"
  }
 },
 "nbformat": 4,
 "nbformat_minor": 4
}
